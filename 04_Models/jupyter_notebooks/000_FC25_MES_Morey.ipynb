{
 "cells": [
  {
   "cell_type": "code",
   "execution_count": 5,
   "metadata": {},
   "outputs": [],
   "source": [
    "from CustomObjects import *\n",
    "! mkdir -p ../figures/Morey\n"
   ]
  },
  {
   "cell_type": "code",
   "execution_count": 6,
   "metadata": {},
   "outputs": [
    {
     "data": {
      "text/plain": [
       "88"
      ]
     },
     "execution_count": 6,
     "metadata": {},
     "output_type": "execute_result"
    }
   ],
   "source": [
    "Morey = pd.read_csv('../../00_RegionAnnotation/FC25_MES_Morey_2015.csv',index_col='Genes',\n",
    "            usecols=['Genes','RPKM MES-shCTR'])\n",
    "RNA = pd.read_csv('../data/matrices/RNA_FPKM_TSS_2500_FILT.csv',index_col='GENE')\n",
    "RNA = RNA*2 # FPKMs-> RPKMs\n",
    "comm_index = RNA.index.intersection(Morey.index)\n",
    "len(comm_index)\n"
   ]
  },
  {
   "cell_type": "code",
   "execution_count": 8,
   "metadata": {},
   "outputs": [
    {
     "data": {
      "text/plain": [
       "Index(['1500016L03Rik', '5730457N03Rik', 'Amd1', 'Cxx1c', 'Mir1983', 'Mir215',\n",
       "       'Mir291b', 'Mir302b', 'Mir466i', 'Msx1as'],\n",
       "      dtype='object')"
      ]
     },
     "execution_count": 8,
     "metadata": {},
     "output_type": "execute_result"
    }
   ],
   "source": [
    "Morey.index.difference(comm_index)"
   ]
  },
  {
   "cell_type": "code",
   "execution_count": 9,
   "metadata": {},
   "outputs": [],
   "source": [
    "RNA_PREFIXES = []\n",
    "for CT in CT_LIST:\n",
    "    RNA_PREFIXES.append('RNA_'+CT)"
   ]
  },
  {
   "cell_type": "code",
   "execution_count": 10,
   "metadata": {},
   "outputs": [
    {
     "name": "stdout",
     "output_type": "stream",
     "text": [
      "['RNA_ESC_1', 'RNA_ESC_2'] -> RNA_ESC COLUMNS \n",
      "['RNA_MES_1', 'RNA_MES_2'] -> RNA_MES COLUMNS \n",
      "['RNA_CP_1', 'RNA_CP_2'] -> RNA_CP COLUMNS \n",
      "['RNA_CM_1', 'RNA_CM_2'] -> RNA_CM COLUMNS \n"
     ]
    },
    {
     "data": {
      "text/plain": [
       "<Figure size 216x72 with 0 Axes>"
      ]
     },
     "metadata": {},
     "output_type": "display_data"
    },
    {
     "data": {
      "image/png": "[encoded data removed]",
      "text/plain": [
       "<Figure size 108x72 with 1 Axes>"
      ]
     },
     "metadata": {},
     "output_type": "display_data"
    }
   ],
   "source": [
    "RNA_AVG = calculate_mean_features(RNA,RNA_PREFIXES).loc[comm_index]\n",
    "Morey = Morey.loc[comm_index]\n",
    "assert (Morey.index == RNA_AVG.index).all()\n",
    "Morey.rename(columns={'RPKM MES-shCTR': 'RNA_MES_Morey'},inplace=True)\n",
    "DF = pd.concat((RNA_AVG,Morey),axis=1)\n",
    "violins(DF,COL_DICT=CT_COL_DICT,SAVEFIG='../figures/Morey/FPKM_distributions.png',X_LAB='RPKMs')"
   ]
  },
  {
   "cell_type": "code",
   "execution_count": 11,
   "metadata": {},
   "outputs": [
    {
     "data": {
      "image/png": "[encoded data removed]",
      "text/plain": [
       "<Figure size 180x180 with 1 Axes>"
      ]
     },
     "metadata": {},
     "output_type": "display_data"
    }
   ],
   "source": [
    "from scipy.stats import spearmanr\n",
    "LOG_DF = np.log10(DF+1)\n",
    "correlation, _ = spearmanr(DF['RNA_MES'], DF['RNA_MES_Morey'])\n",
    "plt.figure(figsize=(5, 5))\n",
    "sns.regplot(data=DF,x='RNA_MES', y='RNA_MES_Morey', scatter=True, label='Fit Line', color=CT_COL_DICT['MES'],\n",
    "            scatter_kws={'alpha':0.5, 's':2})\n",
    "plt.text(0.6, 0.9, f'Spearman\\'s r={correlation:.2f}', transform=plt.gca().transAxes, color='black')\n",
    "plt.xlim(left=0)\n",
    "plt.ylim(bottom=0)\n",
    "# Adding labels and title\n",
    "plt.xlabel(f\"RPKMs {subscript_get('MES')}\")\n",
    "plt.ylabel(f\"RPKMs {subscript_get('MES')} Morey\")\n",
    "plt.title('94/98 genes with FC>25 in Morey study')\n",
    "sns.despine()\n",
    "plt.savefig('../figures/Morey/correlations_scatter.png', format=\"png\", bbox_inches=\"tight\");\n"
   ]
  },
  {
   "cell_type": "code",
   "execution_count": 12,
   "metadata": {},
   "outputs": [
    {
     "data": {
      "text/plain": [
       "<matplotlib.lines.Line2D at 0x30ccaf9d0>"
      ]
     },
     "execution_count": 12,
     "metadata": {},
     "output_type": "execute_result"
    },
    {
     "data": {
      "image/png": "[encoded data removed]",
      "text/plain": [
       "<Figure size 230.4x172.8 with 1 Axes>"
      ]
     },
     "metadata": {},
     "output_type": "display_data"
    }
   ],
   "source": [
    "RNA_STATS = pd.read_csv('../data/matrices/RNAFC.csv',index_col='GENE').filter(regex='MES_ESC_log2FoldChange').loc[comm_index]\n",
    "sns.swarmplot(RNA_STATS,)\n",
    "plt.axhline(np.log2(25))"
   ]
  },
  {
   "cell_type": "code",
   "execution_count": 13,
   "metadata": {},
   "outputs": [],
   "source": [
    "ESC_MES_FC25_Morey = {'ESC_MES_FC25_Morey': list(comm_index)}\n",
    "! mkdir -p ../data/Morey\n",
    "with open(f'../data/Morey/ESC_MES_FC25_Morey.pkl', 'wb') as f:\n",
    "        pickle.dump(ESC_MES_FC25_Morey, f)"
   ]
  },
  {
   "cell_type": "markdown",
   "metadata": {},
   "source": [
    "## All gene correlation"
   ]
  },
  {
   "cell_type": "code",
   "execution_count": 14,
   "metadata": {},
   "outputs": [
    {
     "name": "stdout",
     "output_type": "stream",
     "text": [
      "['RNA_ESC_1', 'RNA_ESC_2'] -> RNA_ESC COLUMNS \n",
      "['RNA_MES_1', 'RNA_MES_2'] -> RNA_MES COLUMNS \n",
      "['RNA_CP_1', 'RNA_CP_2'] -> RNA_CP COLUMNS \n",
      "['RNA_CM_1', 'RNA_CM_2'] -> RNA_CM COLUMNS \n"
     ]
    },
    {
     "data": {
      "text/html": [
       "<div>\n",
       "<style scoped>\n",
       "    .dataframe tbody tr th:only-of-type {\n",
       "        vertical-align: middle;\n",
       "    }\n",
       "\n",
       "    .dataframe tbody tr th {\n",
       "        vertical-align: top;\n",
       "    }\n",
       "\n",
       "    .dataframe thead th {\n",
       "        text-align: right;\n",
       "    }\n",
       "</style>\n",
       "<table border=\"1\" class=\"dataframe\">\n",
       "  <thead>\n",
       "    <tr style=\"text-align: right;\">\n",
       "      <th></th>\n",
       "      <th>RNA_ESC</th>\n",
       "      <th>RNA_MES</th>\n",
       "      <th>RNA_CP</th>\n",
       "      <th>RNA_CM</th>\n",
       "    </tr>\n",
       "  </thead>\n",
       "  <tbody>\n",
       "    <tr>\n",
       "      <th>0610005C13Rik</th>\n",
       "      <td>4.675723</td>\n",
       "      <td>2.480110</td>\n",
       "      <td>4.454108</td>\n",
       "      <td>2.594468</td>\n",
       "    </tr>\n",
       "    <tr>\n",
       "      <th>0610010F05Rik</th>\n",
       "      <td>6.101688</td>\n",
       "      <td>5.599243</td>\n",
       "      <td>5.764052</td>\n",
       "      <td>4.172894</td>\n",
       "    </tr>\n",
       "    <tr>\n",
       "      <th>0610010K14Rik</th>\n",
       "      <td>104.868369</td>\n",
       "      <td>132.886236</td>\n",
       "      <td>89.119288</td>\n",
       "      <td>74.054064</td>\n",
       "    </tr>\n",
       "    <tr>\n",
       "      <th>0610012G03Rik</th>\n",
       "      <td>35.651919</td>\n",
       "      <td>51.348278</td>\n",
       "      <td>45.976260</td>\n",
       "      <td>98.704322</td>\n",
       "    </tr>\n",
       "    <tr>\n",
       "      <th>0610030E20Rik</th>\n",
       "      <td>5.711212</td>\n",
       "      <td>12.355940</td>\n",
       "      <td>10.807232</td>\n",
       "      <td>15.083958</td>\n",
       "    </tr>\n",
       "    <tr>\n",
       "      <th>...</th>\n",
       "      <td>...</td>\n",
       "      <td>...</td>\n",
       "      <td>...</td>\n",
       "      <td>...</td>\n",
       "    </tr>\n",
       "    <tr>\n",
       "      <th>Zyg11b</th>\n",
       "      <td>8.853979</td>\n",
       "      <td>22.073950</td>\n",
       "      <td>13.640235</td>\n",
       "      <td>14.958489</td>\n",
       "    </tr>\n",
       "    <tr>\n",
       "      <th>Zyx</th>\n",
       "      <td>28.557080</td>\n",
       "      <td>58.089263</td>\n",
       "      <td>72.877106</td>\n",
       "      <td>84.940064</td>\n",
       "    </tr>\n",
       "    <tr>\n",
       "      <th>Zzef1</th>\n",
       "      <td>8.556672</td>\n",
       "      <td>6.426618</td>\n",
       "      <td>8.492610</td>\n",
       "      <td>13.041848</td>\n",
       "    </tr>\n",
       "    <tr>\n",
       "      <th>Zzz3</th>\n",
       "      <td>19.913717</td>\n",
       "      <td>24.465014</td>\n",
       "      <td>24.700033</td>\n",
       "      <td>16.052697</td>\n",
       "    </tr>\n",
       "    <tr>\n",
       "      <th>a</th>\n",
       "      <td>0.000000</td>\n",
       "      <td>0.000000</td>\n",
       "      <td>1.879798</td>\n",
       "      <td>0.193296</td>\n",
       "    </tr>\n",
       "  </tbody>\n",
       "</table>\n",
       "<p>13394 rows × 4 columns</p>\n",
       "</div>"
      ],
      "text/plain": [
       "                  RNA_ESC     RNA_MES     RNA_CP     RNA_CM\n",
       "0610005C13Rik    4.675723    2.480110   4.454108   2.594468\n",
       "0610010F05Rik    6.101688    5.599243   5.764052   4.172894\n",
       "0610010K14Rik  104.868369  132.886236  89.119288  74.054064\n",
       "0610012G03Rik   35.651919   51.348278  45.976260  98.704322\n",
       "0610030E20Rik    5.711212   12.355940  10.807232  15.083958\n",
       "...                   ...         ...        ...        ...\n",
       "Zyg11b           8.853979   22.073950  13.640235  14.958489\n",
       "Zyx             28.557080   58.089263  72.877106  84.940064\n",
       "Zzef1            8.556672    6.426618   8.492610  13.041848\n",
       "Zzz3            19.913717   24.465014  24.700033  16.052697\n",
       "a                0.000000    0.000000   1.879798   0.193296\n",
       "\n",
       "[13394 rows x 4 columns]"
      ]
     },
     "execution_count": 14,
     "metadata": {},
     "output_type": "execute_result"
    }
   ],
   "source": [
    "\n",
    "Morey_all = pd.read_csv('../../00_RegionAnnotation/RNAseq_ESC_MES_Morey2015.txt',index_col='Genes',\n",
    "            names=['Genes','RNA_ESC_Morey','RNA_MES_Morey'], sep='\\s+')\n",
    "RNA_all = pd.read_csv('../data/matrices/RNA_FPKM_TSS_2500_FILT.csv',index_col='GENE')\n",
    "RNA_all = RNA_all*2 # FPKMs-> RPKMs \n",
    "comm_index_all = Morey_all.index.intersection(RNA_all.index)\n",
    "\n",
    "\n",
    "RNA_AVG_all = calculate_mean_features(RNA_all,RNA_PREFIXES).loc[comm_index_all]\n",
    "RNA_AVG_all"
   ]
  },
  {
   "cell_type": "code",
   "execution_count": 15,
   "metadata": {},
   "outputs": [
    {
     "data": {
      "text/plain": [
       "<Figure size 216x86.4 with 0 Axes>"
      ]
     },
     "metadata": {},
     "output_type": "display_data"
    },
    {
     "data": {
      "image/png": "[encoded data removed]",
      "text/plain": [
       "<Figure size 108x86.4 with 1 Axes>"
      ]
     },
     "metadata": {},
     "output_type": "display_data"
    }
   ],
   "source": [
    "\n",
    "Morey_all = Morey_all.loc[comm_index_all]\n",
    "\n",
    "assert (Morey_all.index == RNA_AVG_all.index).all()\n",
    "DF_all = pd.concat((RNA_AVG_all,Morey_all),axis=1)\n",
    "LOG_DF_all = np.log10(DF_all+1)\n",
    "violins(LOG_DF_all,COL_DICT=CT_COL_DICT,SAVEFIG='../figures/Morey/FPKM_distributions_all.png', X_LAB='log(RPKMs)')\n"
   ]
  },
  {
   "cell_type": "code",
   "execution_count": 16,
   "metadata": {},
   "outputs": [
    {
     "data": {
      "text/html": [
       "<div>\n",
       "<style scoped>\n",
       "    .dataframe tbody tr th:only-of-type {\n",
       "        vertical-align: middle;\n",
       "    }\n",
       "\n",
       "    .dataframe tbody tr th {\n",
       "        vertical-align: top;\n",
       "    }\n",
       "\n",
       "    .dataframe thead th {\n",
       "        text-align: right;\n",
       "    }\n",
       "</style>\n",
       "<table border=\"1\" class=\"dataframe\">\n",
       "  <thead>\n",
       "    <tr style=\"text-align: right;\">\n",
       "      <th></th>\n",
       "      <th>RNA_MES</th>\n",
       "      <th>RNA_MES_Morey</th>\n",
       "    </tr>\n",
       "  </thead>\n",
       "  <tbody>\n",
       "    <tr>\n",
       "      <th>0610010K14Rik</th>\n",
       "      <td>2.126736</td>\n",
       "      <td>1.890846</td>\n",
       "    </tr>\n",
       "    <tr>\n",
       "      <th>0610012G03Rik</th>\n",
       "      <td>1.718902</td>\n",
       "      <td>1.174528</td>\n",
       "    </tr>\n",
       "    <tr>\n",
       "      <th>0610030E20Rik</th>\n",
       "      <td>1.125674</td>\n",
       "      <td>0.852886</td>\n",
       "    </tr>\n",
       "    <tr>\n",
       "      <th>1110002L01Rik</th>\n",
       "      <td>0.890890</td>\n",
       "      <td>1.178873</td>\n",
       "    </tr>\n",
       "    <tr>\n",
       "      <th>1110004F10Rik</th>\n",
       "      <td>2.207094</td>\n",
       "      <td>2.055604</td>\n",
       "    </tr>\n",
       "    <tr>\n",
       "      <th>...</th>\n",
       "      <td>...</td>\n",
       "      <td>...</td>\n",
       "    </tr>\n",
       "    <tr>\n",
       "      <th>Zwilch</th>\n",
       "      <td>1.445615</td>\n",
       "      <td>1.354953</td>\n",
       "    </tr>\n",
       "    <tr>\n",
       "      <th>Zwint</th>\n",
       "      <td>1.927307</td>\n",
       "      <td>1.590972</td>\n",
       "    </tr>\n",
       "    <tr>\n",
       "      <th>Zyg11b</th>\n",
       "      <td>1.363122</td>\n",
       "      <td>1.142064</td>\n",
       "    </tr>\n",
       "    <tr>\n",
       "      <th>Zyx</th>\n",
       "      <td>1.771509</td>\n",
       "      <td>1.760471</td>\n",
       "    </tr>\n",
       "    <tr>\n",
       "      <th>Zzz3</th>\n",
       "      <td>1.405944</td>\n",
       "      <td>1.158815</td>\n",
       "    </tr>\n",
       "  </tbody>\n",
       "</table>\n",
       "<p>7734 rows × 2 columns</p>\n",
       "</div>"
      ],
      "text/plain": [
       "                RNA_MES  RNA_MES_Morey\n",
       "0610010K14Rik  2.126736       1.890846\n",
       "0610012G03Rik  1.718902       1.174528\n",
       "0610030E20Rik  1.125674       0.852886\n",
       "1110002L01Rik  0.890890       1.178873\n",
       "1110004F10Rik  2.207094       2.055604\n",
       "...                 ...            ...\n",
       "Zwilch         1.445615       1.354953\n",
       "Zwint          1.927307       1.590972\n",
       "Zyg11b         1.363122       1.142064\n",
       "Zyx            1.771509       1.760471\n",
       "Zzz3           1.405944       1.158815\n",
       "\n",
       "[7734 rows x 2 columns]"
      ]
     },
     "execution_count": 16,
     "metadata": {},
     "output_type": "execute_result"
    }
   ],
   "source": [
    "LOG_DF_all = LOG_DF_all.filter(regex='MES')\n",
    "LOG_DF_all= LOG_DF_all[(LOG_DF_all > 1).sum(axis=1) > 0]\n",
    "LOG_DF_all"
   ]
  },
  {
   "cell_type": "code",
   "execution_count": 17,
   "metadata": {},
   "outputs": [
    {
     "data": {
      "image/png": "[encoded data removed]",
      "text/plain": [
       "<Figure size 180x180 with 1 Axes>"
      ]
     },
     "metadata": {},
     "output_type": "display_data"
    }
   ],
   "source": [
    "correlation, _ = spearmanr(LOG_DF_all['RNA_MES'], LOG_DF_all['RNA_MES_Morey'])\n",
    "plt.figure(figsize=(5, 5))\n",
    "sns.regplot(data=LOG_DF_all, x='RNA_MES', y='RNA_MES_Morey', scatter=True, label='Fit Line', color='black', \n",
    "            scatter_kws={'alpha':0.05, 's':1}) # type: ignore\n",
    "plt.text(0.4, 0.9, f'Spearman\\'s r={correlation:.2f}', transform=plt.gca().transAxes, color='black')\n",
    "plt.xlim(left=0)\n",
    "plt.ylim(bottom=0)\n",
    "# Adding labels and title\n",
    "plt.xlabel(f\"log(RPKMs {subscript_get('MES')} +1)\")\n",
    "plt.ylabel(f\"log(RPKMs {subscript_get('MES')} +1) (Morey)\")\n",
    "plt.title('Glob. correlation (RPKMs > 1)')\n",
    "sns.despine()\n",
    "plt.savefig('../figures/Morey/correlations_scatter_all.png', format=\"png\", bbox_inches=\"tight\");\n"
   ]
  }
 ],
 "metadata": {
  "kernelspec": {
   "display_name": "DL",
   "language": "python",
   "name": "python3"
  },
  "language_info": {
   "codemirror_mode": {
    "name": "ipython",
    "version": 3
   },
   "file_extension": ".py",
   "mimetype": "text/x-python",
   "name": "python",
   "nbconvert_exporter": "python",
   "pygments_lexer": "ipython3",
   "version": "3.10.14"
  }
 },
 "nbformat": 4,
 "nbformat_minor": 2
}
