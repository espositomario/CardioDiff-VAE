{
 "cells": [
  {
   "cell_type": "markdown",
   "metadata": {},
   "source": [
    "### Set parameters and names"
   ]
  },
  {
   "cell_type": "code",
   "execution_count": null,
   "metadata": {},
   "outputs": [],
   "source": [
    "from CustomObjects import *\n",
    "%matplotlib inline\n",
    "# plot images in retina\n",
    "%config InlineBackend.figure_format = 'retina'\n",
    "INPUT_GENES    = 'ALL'\n",
    "INPUT_FEATURES = 'X_FC'\n",
    "INPUT_NORM     = 'z'\n",
    "CODINGS_SIZE = 6\n",
    "\n",
    "ID     = f'{CODINGS_SIZE}D_{INPUT_GENES}_{INPUT_FEATURES}_{INPUT_NORM}'\n",
    "\n",
    "DIR_FIG  = f'../figures/{ID}_analysis/'\n",
    "DIR_DATA = f'../data/{ID}_analysis/'\n",
    "! mkdir -p {DIR_FIG}\n",
    "! mkdir -p {DIR_DATA}\n",
    "# set colors\n"
   ]
  },
  {
   "cell_type": "markdown",
   "metadata": {},
   "source": [
    "## Import original (No Z-score norm.)"
   ]
  },
  {
   "cell_type": "code",
   "execution_count": null,
   "metadata": {},
   "outputs": [],
   "source": [
    "ALL_X = pd.read_csv(f'../data/matrices/ALL/ALL_X.csv').set_index('GENE')\n",
    "#ALL_X = calculate_mean_features(ALL_X, PREFIXES)\n",
    "ALL_FC = pd.read_csv(f'../data/matrices/ALL/ALL_FC.csv').set_index('GENE')\n",
    "assert (ALL_X.index == ALL_FC.index).all()\n",
    "ORIGINAL = pd.concat([ALL_X,ALL_FC],axis=1)"
   ]
  },
  {
   "cell_type": "markdown",
   "metadata": {},
   "source": [
    "## Import original and reconstrution for all methods (AE,VAE,PCA...)(Z-score) "
   ]
  },
  {
   "cell_type": "code",
   "execution_count": null,
   "metadata": {},
   "outputs": [],
   "source": [
    "DF   = pd.read_csv(f'../data/AE_{ID}/DF.csv').set_index('GENE')\n",
    "assert DF.isna().any().sum() == 0\n",
    "FEATURE_NAMES = DF.select_dtypes(include=['number']).columns"
   ]
  },
  {
   "cell_type": "code",
   "execution_count": null,
   "metadata": {},
   "outputs": [],
   "source": [
    "METHODS = ['VAE','AE','PCA','UMAP']\n",
    "CODE = pd.read_csv(f'{DIR_DATA}CODE.csv').set_index('GENE')\n",
    "CODE"
   ]
  },
  {
   "cell_type": "markdown",
   "metadata": {},
   "source": [
    "# Clustering"
   ]
  },
  {
   "cell_type": "markdown",
   "metadata": {},
   "source": [
    "### GMM hyperparameter optimization"
   ]
  },
  {
   "cell_type": "code",
   "execution_count": null,
   "metadata": {},
   "outputs": [],
   "source": [
    "# takes a long time to run  (1h on original feat. and 30min for all others methods)\n",
    "DF_DICT = GMM_grid_search(CODE, DF[FEATURE_NAMES], METHODS=METHODS, max_k=100, ) "
   ]
  },
  {
   "cell_type": "code",
   "execution_count": null,
   "metadata": {},
   "outputs": [],
   "source": [
    "#for METHOD in METHODS:\n",
    "    #plot_scores(DF_DICT[METHOD],METHOD)"
   ]
  },
  {
   "cell_type": "markdown",
   "metadata": {},
   "source": [
    "-----\n",
    "\n",
    "\n",
    "\n",
    "\n",
    "\n",
    "\n",
    "----"
   ]
  },
  {
   "cell_type": "markdown",
   "metadata": {},
   "source": [
    "### Train with best k and cov"
   ]
  },
  {
   "cell_type": "markdown",
   "metadata": {},
   "source": [
    "# k=40"
   ]
  },
  {
   "cell_type": "code",
   "execution_count": null,
   "metadata": {},
   "outputs": [],
   "source": [
    "best_cov_dict = {'VAE':'spherical',\n",
    "                'UMAP':'full',\n",
    "                'PCA':'full',\n",
    "                'AE':'full',\n",
    "                'original':'full'\n",
    "                }\n",
    "best_k_dict = {'VAE':40,\n",
    "                'UMAP':40,\n",
    "                'PCA':40,\n",
    "                'AE':40,\n",
    "                'original':40\n",
    "                }\n",
    "#METHODS.append('original')\n",
    "GMM_train(CODE, METHODS=METHODS, ORIGINAL_DF=DF[FEATURE_NAMES], best_k_dict=best_k_dict,best_cov_dict=best_cov_dict)"
   ]
  },
  {
   "cell_type": "code",
   "execution_count": null,
   "metadata": {},
   "outputs": [],
   "source": [
    "for METHOD in METHODS:\n",
    "    DIR_FIG_METHOD = f'{DIR_FIG}{METHOD}/'\n",
    "    ! mkdir -p {DIR_FIG_METHOD}\n",
    "    umap_2d_clusters(CODE, METHOD, best_k_dict=best_k_dict, DIR=DIR_FIG_METHOD, CMAP='gist_ncar', SIZE=10)\n"
   ]
  },
  {
   "cell_type": "code",
   "execution_count": null,
   "metadata": {},
   "outputs": [],
   "source": [
    "for METHOD in METHODS:\n",
    "    DIR_FIG_METHOD = f'{DIR_FIG}{METHOD}/'\n",
    "    plot_boxplots_clusters(CODE,f'GMM_{METHOD}_{best_k_dict[METHOD]}', PREFIXES, HM_COL_DICT=HM_COL_DICT ,X_LINE=0, TITLE=f'GMM_{METHOD}_{best_k_dict[METHOD]}')\n",
    "    plt.savefig(f'{DIR_FIG_METHOD}GMM_violins_{METHOD}_{best_k_dict[METHOD]}_k.png', format=\"png\", bbox_inches=\"tight\",dpi=250)\n",
    "    \n",
    "    "
   ]
  },
  {
   "cell_type": "markdown",
   "metadata": {},
   "source": [
    "#### Save clusters in a dictionary"
   ]
  },
  {
   "cell_type": "code",
   "execution_count": null,
   "metadata": {},
   "outputs": [],
   "source": [
    "import pickle\n",
    "\n",
    "CODE = CODE.reset_index()\n",
    "\n",
    "for METHOD in METHODS:\n",
    "    LABELS_COL=f'GMM_{METHOD}_{best_k_dict[METHOD]}'\n",
    "    DIR= f'../data/{ID}_analysis/{LABELS_COL}/'\n",
    "    ! mkdir -p {DIR}\n",
    "    gene_clusters = CODE.groupby(LABELS_COL)['GENE'].agg(list)\n",
    "    GENE_CLUSTERS = {}\n",
    "    for label, gene_list in gene_clusters.items():\n",
    "\n",
    "        GENE_CLUSTERS[label] = {'gene_list': gene_list, 'len': len(gene_list)}\n",
    "        #print(len(gene_list))\n",
    "        pd.Series(gene_list).to_csv(f'{DIR}cluster_{label}.list',index=False,header=False)\n",
    "    with open(f'{DIR}gene_clusters_dict.pkl', 'wb') as f:\n",
    "        pickle.dump(GENE_CLUSTERS, f)\n",
    "CODE['GENE'].to_csv(f'{DIR_DATA}background.list',index=False,header=False)\n",
    "\n",
    "CODE.set_index('GENE',inplace=True)\n",
    "CODE"
   ]
  },
  {
   "cell_type": "markdown",
   "metadata": {},
   "source": [
    "# k = 80"
   ]
  },
  {
   "cell_type": "code",
   "execution_count": null,
   "metadata": {},
   "outputs": [],
   "source": [
    "METHODS\n"
   ]
  },
  {
   "cell_type": "code",
   "execution_count": null,
   "metadata": {},
   "outputs": [],
   "source": [
    "best_cov_dict = {'VAE':'spherical',\n",
    "                'UMAP':'full',\n",
    "                'PCA':'full',\n",
    "                'AE':'full',\n",
    "                'original':'full'\n",
    "                }\n",
    "\n",
    "best_k_dict = {'VAE':80,\n",
    "                'UMAP':80,\n",
    "                'PCA':80,\n",
    "                'AE':80,\n",
    "                'original':80\n",
    "                }\n",
    "\n",
    "GMM_train(CODE, METHODS=METHODS, ORIGINAL_DF=DF[FEATURE_NAMES], best_k_dict=best_k_dict,best_cov_dict=best_cov_dict)"
   ]
  },
  {
   "cell_type": "code",
   "execution_count": null,
   "metadata": {},
   "outputs": [],
   "source": [
    "for METHOD in METHODS:\n",
    "    DIR_FIG_METHOD = f'{DIR_FIG}{METHOD}/'\n",
    "    umap_2d_clusters(CODE, METHOD, best_k_dict=best_k_dict, DIR=DIR_FIG_METHOD, CMAP='gist_ncar', SIZE=10)\n"
   ]
  },
  {
   "cell_type": "code",
   "execution_count": null,
   "metadata": {},
   "outputs": [],
   "source": [
    "for METHOD in METHODS:\n",
    "    DIR_FIG_METHOD = f'{DIR_FIG}{METHOD}/'\n",
    "    plot_boxplots_clusters(CODE,f'GMM_{METHOD}_{best_k_dict[METHOD]}', PREFIXES, HM_COL_DICT=HM_COL_DICT ,X_LINE=0, TITLE=f'GMM_{METHOD}_{best_k_dict[METHOD]}')\n",
    "    plt.savefig(f'{DIR_FIG_METHOD}GMM_violins_{METHOD}_{best_k_dict[METHOD]}_k.png', format=\"png\", bbox_inches=\"tight\",dpi=250)\n",
    "    "
   ]
  },
  {
   "cell_type": "markdown",
   "metadata": {},
   "source": [
    "#### Save clusters in a dictionary"
   ]
  },
  {
   "cell_type": "code",
   "execution_count": null,
   "metadata": {},
   "outputs": [],
   "source": [
    "import pickle\n",
    "\n",
    "CODE = CODE.reset_index()\n",
    "\n",
    "CLUST='GMM'\n",
    "for METHOD in METHODS:\n",
    "\n",
    "    LABELS_COL=f'GMM_{METHOD}_{best_k_dict[METHOD]}'\n",
    "    DIR= f'../data/{ID}_analysis/{LABELS_COL}/'\n",
    "    ! mkdir -p {DIR}\n",
    "    gene_clusters = CODE.groupby(LABELS_COL)['GENE'].agg(list)\n",
    "    GENE_CLUSTERS = {}\n",
    "    for label, gene_list in gene_clusters.items():\n",
    "\n",
    "        GENE_CLUSTERS[label] = {'gene_list': gene_list, 'len': len(gene_list)}\n",
    "        #print(len(gene_list))\n",
    "        pd.Series(gene_list).to_csv(f'{DIR}cluster_{label}.list',index=False,header=False)\n",
    "    with open(f'{DIR}gene_clusters_dict.pkl', 'wb') as f:\n",
    "        pickle.dump(GENE_CLUSTERS, f)\n",
    "CODE['GENE'].to_csv(f'{DIR_DATA}background.list',index=False,header=False)\n",
    "CODE.set_index('GENE',inplace=True)\n",
    "CODE"
   ]
  }
 ],
 "metadata": {
  "accelerator": "GPU",
  "colab": {
   "authorship_tag": "ABX9TyMDC1ToWGIBGccWWiHT+eFl",
   "provenance": [
    {
     "file_id": "1B-9-kc0cCv3P5WHf7rDrocRrN5fxLnTK",
     "timestamp": 1622642792385
    }
   ]
  },
  "kernelspec": {
   "display_name": "Python 3",
   "name": "python3"
  },
  "language_info": {
   "codemirror_mode": {
    "name": "ipython",
    "version": 3
   },
   "file_extension": ".py",
   "mimetype": "text/x-python",
   "name": "python",
   "nbconvert_exporter": "python",
   "pygments_lexer": "ipython3",
   "version": "3.10.14"
  }
 },
 "nbformat": 4,
 "nbformat_minor": 0
}
