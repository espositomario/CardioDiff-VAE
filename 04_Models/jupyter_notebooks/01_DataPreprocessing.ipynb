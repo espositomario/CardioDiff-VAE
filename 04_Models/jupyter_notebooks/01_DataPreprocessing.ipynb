{
 "cells": [
  {
   "cell_type": "markdown",
   "metadata": {},
   "source": [
    "### Import libraries"
   ]
  },
  {
   "cell_type": "code",
   "execution_count": null,
   "metadata": {},
   "outputs": [],
   "source": [
    "from CustomObjects import *"
   ]
  },
  {
   "cell_type": "code",
   "execution_count": null,
   "metadata": {},
   "outputs": [],
   "source": [
    "! mkdir -p ../data/\n",
    "! mkdir -p ../data/matrices\n",
    "! mkdir -p ../data/removed_genes\n",
    "! mkdir -p ../figures/preprocessing\n",
    "! mkdir -p ../figures/preprocessing/PCA\n",
    "! mkdir -p ../figures/RNA_CV\n",
    "! mkdir -p ../figures/gene_trend\n",
    "%matplotlib inline"
   ]
  },
  {
   "cell_type": "code",
   "execution_count": null,
   "metadata": {},
   "outputs": [],
   "source": [
    "export_legend(CT_COL_DICT,filename='../figures/legend_CT.pdf',MK_SIZE=9)\n",
    "export_legend(SET_COL_DICT,filename='../figures/legend_SET.pdf',MK_SIZE=9)\n",
    "export_legend(HM_COL_DICT, filename='../figures/legend_HM.pdf',MK_SIZE=9)\n",
    "HM_COL_DICT['WCE'] = '#B1BBBA'\n",
    "export_legend(HM_COL_DICT, filename='../figures/legend_HM2.pdf',MK_SIZE=9)\n",
    "HM_COL_DICT.popitem()\n",
    "HM_COL_DICT['RNA'] = '#ED455C'\n",
    "export_legend(HM_COL_DICT, filename='../figures/legend_FEAT.pdf',MK_SIZE=9)\n",
    "HM_COL_DICT['WCE'] = '#B1BBBA'\n"
   ]
  },
  {
   "cell_type": "code",
   "execution_count": null,
   "metadata": {},
   "outputs": [],
   "source": [
    "DISTANCE=2500\n",
    "PSEUDOCOUNT=1\n",
    "\n",
    "METADATA = pd.read_csv(\"../../01_Mapping/data/ChIP_NARROW.csv\")\n",
    "assert METADATA.isna().any().sum() == 0\n",
    "assert METADATA['SAMPLE_ID'].is_unique and METADATA['SAMPLE_ID_SHORT'].is_unique\n",
    "CT_LIST = list(METADATA['CELL_TYPE'].unique())\n",
    "HM_LIST = list(METADATA['TARGET'].sort_values().unique())\n"
   ]
  },
  {
   "cell_type": "code",
   "execution_count": null,
   "metadata": {},
   "outputs": [],
   "source": [
    "HM_LIST2 = ['H3K27ac', 'H3K27me3',  'H3K4me3']"
   ]
  },
  {
   "cell_type": "markdown",
   "metadata": {},
   "source": [
    "# RNA-seq"
   ]
  },
  {
   "cell_type": "markdown",
   "metadata": {},
   "source": [
    "### Import FPKMs"
   ]
  },
  {
   "cell_type": "code",
   "execution_count": null,
   "metadata": {},
   "outputs": [],
   "source": [
    "from itertools import combinations\n",
    "COMB = list(combinations(CT_LIST,2))\n",
    "COMB2 = (('ESC','MES'), ('CP','CM'))\n",
    "\n",
    "RNA = []\n",
    "\n",
    "for PAIR in COMB2:\n",
    "    NAME = f'{PAIR[0]}_{PAIR[1]}'\n",
    "    DIR = f\"../../02_DESeq/Results/fpkm/{NAME}.txt\"\n",
    "    #\n",
    "    TMP = pd.read_table(DIR)\n",
    "    RNA.append(TMP)\n",
    "RNA = pd.concat(RNA,axis=\"columns\")\n",
    "RNA = RNA.add_prefix('RNA_')\n",
    "#\n",
    "#\n",
    "RNA.to_csv(f'../data/matrices/RNA_FPKM{DISTANCE}.csv',index_label='GENE')\n",
    "RNA_MAIN = RNA.copy()\n",
    "\n",
    "\n",
    "RNA"
   ]
  },
  {
   "cell_type": "markdown",
   "metadata": {},
   "source": [
    "### Filtering (Replicates AVG FPKMs > 0.5 in at least 1 CT)"
   ]
  },
  {
   "cell_type": "code",
   "execution_count": null,
   "metadata": {},
   "outputs": [],
   "source": [
    "RNA_PREFIXES = []\n",
    "for CT in CT_LIST: RNA_PREFIXES.append('RNA_'+CT)\n",
    "RNA_AVG = calculate_mean_features(RNA, RNA_PREFIXES)\n",
    "RNA_AVG = RNA_AVG[(RNA_AVG > 0.5).sum(axis=1) > 0]          # filter\n",
    "RNA = RNA.loc[RNA_AVG.index]\n",
    "RNA"
   ]
  },
  {
   "cell_type": "markdown",
   "metadata": {},
   "source": [
    "### Compute Coeff. of Variation\n",
    "##### *Only computed for genes having AVG FPKMs across CTs and Replicates > 0.5"
   ]
  },
  {
   "cell_type": "code",
   "execution_count": null,
   "metadata": {},
   "outputs": [],
   "source": [
    "from scipy.stats import gaussian_kde\n",
    "\n",
    "# Filter the RNA_AVG for mean expression > 0.5\n",
    "RNA_AVG = RNA_AVG[(RNA_AVG.mean(axis=1) > 0.5)]\n",
    "\n",
    "# Compute coefficient of variation (CV)\n",
    "RNA_CV = RNA_AVG.std(axis=1) / RNA_AVG.mean(axis=1)\n",
    "\n",
    "# Sort CV values and get the indices for bottom and top 4000\n",
    "N_TOP = 4000\n",
    "sorted_CV = RNA_CV.sort_values(ascending=True)\n",
    "BOTTOM_CV = sorted_CV[:N_TOP]\n",
    "TOP_CV = sorted_CV[-N_TOP:]\n",
    "\n",
    "# Create KDE data manually using scipy gaussian_kde\n",
    "kde = gaussian_kde(RNA_CV)\n",
    "x_data = np.linspace(RNA_CV.min(), RNA_CV.max(), 1000)\n",
    "y_data = kde(x_data)\n",
    "\n",
    "# Create the plot\n",
    "plt.figure(figsize=(3, 2))\n",
    "\n",
    "# Plot the full KDE\n",
    "plt.plot(x_data, y_data, color='silver', label='All genes')\n",
    "\n",
    "# Highlight the bottom 4000 (light green)\n",
    "plt.fill_between(x_data, y_data, where=(x_data <= BOTTOM_CV.max()), color='silver', alpha=0.8, )\n",
    "\n",
    "# Highlight the top 4000 (red)\n",
    "plt.fill_between(x_data, y_data, where=(x_data >= TOP_CV.min()), color='silver', alpha=0.8, )\n",
    "\n",
    "# Highlight the middle area (silver)\n",
    "plt.fill_between(x_data, y_data, where=((x_data > BOTTOM_CV.max()) & (x_data < TOP_CV.min())), color='silver', alpha=0.2)\n",
    "\n",
    "# Customize the plot\n",
    "plt.xlabel('CV')\n",
    "plt.ylabel('Density')\n",
    "\n",
    "# Customize the plot\n",
    "plt.title(f'CV on gene expression (n={len(RNA_CV)})')\n",
    "plt.gca().xaxis.grid(False)  # Disable x-axis grid\n",
    "sns.despine(left=True,bottom=True)  # Remove left and bottom spines\n",
    "plt.savefig('../figures/RNA_CV/CV_distribution.pdf', format=\"pdf\", bbox_inches=\"tight\");\n"
   ]
  },
  {
   "cell_type": "markdown",
   "metadata": {},
   "source": [
    "### Define the TOP4000 and BOTTOM4000 genes based on CV as STABLE and VARIABLE genes"
   ]
  },
  {
   "cell_type": "code",
   "execution_count": null,
   "metadata": {},
   "outputs": [],
   "source": [
    "N_TOP = 4000\n",
    "BOTTOM_CV = RNA_CV.sort_values(ascending=1)[:N_TOP].index\n",
    "BOTTOM_CV = RNA_AVG.loc[BOTTOM_CV]\n",
    "violins(np.log10(BOTTOM_CV + 1),COL_DICT=CT_COL_DICT,SAVEFIG = f'../figures/RNA_CV/BOTTOM{N_TOP}.png', X_LAB = f\"log{subscript_get('10')}(FPKM+1)\",TITLE= f'STABLE genes (Bottom{N_TOP} CV)')\n",
    "#\n",
    "TOP_CV = RNA_CV.sort_values(ascending=1)[-N_TOP:].index\n",
    "TOP_CV = RNA_AVG.loc[TOP_CV]\n",
    "violins(np.log10(TOP_CV + 1 ),COL_DICT=CT_COL_DICT,SAVEFIG = f'../figures/RNA_CV/TOP{N_TOP}.png', X_LAB = f\"log{subscript_get('10')}(FPKM+1)\",TITLE= f'VARIABLE genes (Top{N_TOP} CV)')"
   ]
  },
  {
   "cell_type": "markdown",
   "metadata": {},
   "source": [
    "### Extract the CT with maximum expression for each gene in VARIABLE (STABLE only as control)"
   ]
  },
  {
   "cell_type": "code",
   "execution_count": null,
   "metadata": {},
   "outputs": [],
   "source": [
    "freq_ct_max(BOTTOM_CV,CT_COL_DICT,SAVEFIG=f'../figures/RNA_CV/CT_max_BOTTOM{N_TOP}.pdf',TITLE= f\"Freq. of each CT{subscript_get('max')} in STABLE genes\")\n",
    "freq_ct_max(TOP_CV,CT_COL_DICT,SAVEFIG=f'../figures/RNA_CV/CT_max_TOP{N_TOP}.pdf',      TITLE= f\"Freq. of each CT{subscript_get('max')} in VARIABLE genes\")"
   ]
  },
  {
   "cell_type": "markdown",
   "metadata": {},
   "source": [
    "### Gene lists for TOP/BOTTOM for each CTmax (Term enrichment analysis)"
   ]
  },
  {
   "cell_type": "code",
   "execution_count": null,
   "metadata": {},
   "outputs": [],
   "source": [
    "! mkdir -p ../data/RNA_CV/BOTTOM{N_TOP}\n",
    "! mkdir -p ../data/RNA_CV/TOP{N_TOP}"
   ]
  },
  {
   "cell_type": "code",
   "execution_count": null,
   "metadata": {},
   "outputs": [],
   "source": [
    "for name, df in zip(('BOTTOM','TOP'),(BOTTOM_CV,TOP_CV)):\n",
    "    CT_MAX = df.idxmax(axis=1)\n",
    "    DICT = {}\n",
    "    for CT in RNA_PREFIXES:\n",
    "        print(CT,len(CT_MAX[CT_MAX == CT]))\n",
    "        gene_list = CT_MAX[CT_MAX==CT].index.to_list()\n",
    "        DICT[CT] = gene_list\n",
    "        pd.Series(gene_list).to_csv(f'../data/RNA_CV/{name}{N_TOP}/{CT}.list',index=False,header=False)\n",
    "    import pickle\n",
    "    with open(f'../data/RNA_CV/{name}{N_TOP}/dict.pkl', 'wb') as f:\n",
    "        pickle.dump(DICT, f)\n",
    "################################### ---> Term enrichment in ORA_CV.ipynb"
   ]
  },
  {
   "cell_type": "markdown",
   "metadata": {},
   "source": [
    "# RNA DESeq2 output (FCs)"
   ]
  },
  {
   "cell_type": "code",
   "execution_count": null,
   "metadata": {},
   "outputs": [],
   "source": [
    "## ALL_FC\n",
    "from itertools import combinations\n",
    "COMB = list(combinations(CT_LIST[::-1], 2))\n",
    "COMB"
   ]
  },
  {
   "cell_type": "code",
   "execution_count": null,
   "metadata": {},
   "outputs": [],
   "source": [
    "RNA_STATS = []\n",
    "for PAIR in COMB:\n",
    "    NAME = f'{PAIR[0]}_{PAIR[1]}'\n",
    "    INV_NAME = f'{PAIR[1]}_{PAIR[0]}'                                #correct one\n",
    "    DIR = f\"../../02_DESeq/Results/stats/{INV_NAME}.txt\"\n",
    "    TMP = pd.read_table(DIR,usecols=['log2FoldChange','pvalue','padj'])\n",
    "    TMP = TMP.add_prefix(f'{NAME}_')\n",
    "    RNA_STATS.append(TMP)\n",
    "RNA_STATS = pd.concat(RNA_STATS,axis=\"columns\")\n",
    "## Filter\n",
    "#RNA_STATS = RNA_STATS.dropna()\n",
    "RNA_STATS = RNA_STATS.loc[RNA.index]\n",
    "assert (RNA_STATS.index == RNA.index).all()\n",
    "RNA_STATS.to_csv(f'../data/matrices/RNAFC.csv',index_label='GENE')"
   ]
  },
  {
   "cell_type": "markdown",
   "metadata": {},
   "source": [
    "# Cell type Marker genes\n",
    "#### Selection made by knowledge in literature and FC/p-val"
   ]
  },
  {
   "cell_type": "code",
   "execution_count": null,
   "metadata": {},
   "outputs": [],
   "source": [
    "MARKER_GENES = {'ESC': ['Nanog','Pou5f1','Sox2','Dppa5a'],\n",
    "                'MES': ['Mesp1','T', 'Vrtn','Dll3'],\n",
    "                'CP':  ['Gata5', 'Tek','Sox18','Lyl1',],\n",
    "                'CM':  ['Actn2', 'Coro6','Myh6','Myh7'],\n",
    "                }\n",
    "\n",
    "MARKER_GENES_EXT = {'ESC': ['Nanog','Pou5f1','Sox2','L1td1','Dppa5a','Tdh','Esrrb','Lefty1','Zfp42','Sfn','Lncenc1','Utf1'],\n",
    "                    'MES': ['Mesp1','Mesp2','T', 'Vrtn','Dll3','Dll1', 'Evx1','Cxcr4','Pcdh8','Pcdh19','Robo3','Slit1'],\n",
    "                    'CP':  ['Sfrp5', 'Gata5', 'Tek','Hbb-bh1','Hba-x', 'Pyy','Sox18','Lyl1','Rgs4','Igsf11','Tlx1','Ctse'],\n",
    "                    'CM':  ['Nppa','Gipr', 'Actn2', 'Coro6', 'Col3a1', 'Bgn','Myh6','Myh7','Tnni3','Hspb7' ,'Igfbp7','Ndrg2'],\n",
    "                    }\n",
    "\n",
    "                \n",
    "for CT,GENE_LIST in MARKER_GENES.items():\n",
    "    RNA_gene_CT(RNA, GENE_LIST=GENE_LIST, CT_LIST=CT_LIST, CT_COL_DICT=CT_COL_DICT, SAVE_PREFIX=f'RNA_{CT}_GENES')\n",
    "    \n",
    "for CT,GENE_LIST in MARKER_GENES_EXT.items():\n",
    "    RNA_gene_CT(RNA, GENE_LIST=GENE_LIST, CT_LIST=CT_LIST, CT_COL_DICT=CT_COL_DICT, SAVE_PREFIX=f'EXT_RNA_{CT}_GENES')\n",
    "\n"
   ]
  },
  {
   "cell_type": "markdown",
   "metadata": {},
   "source": [
    "# CHIP-seq"
   ]
  },
  {
   "cell_type": "code",
   "execution_count": null,
   "metadata": {},
   "outputs": [],
   "source": [
    "# Input files format\n",
    "# CHR TSS-DISTANCE      TSS+DISTANCE    GENE            AVG     MAX     TOT\n",
    "# chr7\t45570176\t45580176\t0610005C13Rik\t0.36\t5.42\t355.45\n",
    "\n",
    "CHIP = []\n",
    "\n",
    "for index, row in METADATA.iterrows():\n",
    "    NAME = row['SAMPLE_ID']\n",
    "    DIR = f\"../../03_RecoverSignal/recoverChIPlevels_promoters_{DISTANCE}/{NAME}_recoverChIPlevels/PEAKsignal_{NAME}.bed\"\n",
    "    SHORT_NAME = row['SAMPLE_ID_SHORT']\n",
    "    assert SHORT_NAME == f\"{row['TARGET']}_{row['CELL_TYPE']}_{row['REP']}\"\n",
    "    #\n",
    "    AVG_TMP = pd.read_table(DIR,usecols=[3,6],header=None,names=['GENE',SHORT_NAME]).set_index('GENE')\n",
    "    CHIP.append(AVG_TMP)\n",
    "CHIP = pd.concat(CHIP,axis=\"columns\")\n",
    "#\n",
    "#\n",
    "COORD = pd.read_table(DIR,usecols=[1,2,3],header=None,names=['START','END','GENE']).set_index('GENE')\n",
    "assert (COORD['END'] - COORD['START'] == DISTANCE*2).all()\n",
    "assert (CHIP.index == COORD.index).all()\n",
    "CHIP.to_csv(f'../data/matrices/ChIP_TSS{DISTANCE}_RAW.csv',index_label='GENE:PROMOTER')\n",
    "CHIP.reset_index(inplace=True)\n"
   ]
  },
  {
   "cell_type": "markdown",
   "metadata": {},
   "source": [
    "### Compute AVG values between Alternatives promoters for each gene"
   ]
  },
  {
   "cell_type": "code",
   "execution_count": null,
   "metadata": {},
   "outputs": [],
   "source": [
    "# Split the GENE column into GENE and ALT_PROM\n",
    "CHIP[['GENE', 'ALT_PROM']] = CHIP['GENE'].str.split(':', expand=True)\n",
    "CHIP.drop(columns=['ALT_PROM'], inplace=True)\n",
    "# Group by the GENE column and calculate the mean for each group\n",
    "CHIP = CHIP.groupby('GENE').mean()\n"
   ]
  },
  {
   "cell_type": "markdown",
   "metadata": {},
   "source": [
    "### Keep intersection btw RNA and ChIP filtering\n",
    "- ChIP filtering -> blacklist regions, sncRNA ...\n",
    "- RNA filtering -> avg FPKMs"
   ]
  },
  {
   "cell_type": "code",
   "execution_count": null,
   "metadata": {},
   "outputs": [],
   "source": [
    "len_RNA = RNA.shape[0]\n",
    "len_CHIP = CHIP.shape[0]\n",
    "comm_index = CHIP.index.intersection(RNA.index,sort=True)\n",
    "len_comm = len(comm_index)\n",
    "print(f'# common: {len_comm}')"
   ]
  },
  {
   "cell_type": "code",
   "execution_count": null,
   "metadata": {},
   "outputs": [],
   "source": [
    "print(f\"# removed in RNA-seq: {len_RNA-len_comm}/{len_RNA}\")\n",
    "RNA = RNA.loc[comm_index]\n",
    "RNA.to_csv(f'../data/matrices/RNA_FPKM_TSS_{DISTANCE}_FILT.csv',index_label='GENE')\n"
   ]
  },
  {
   "cell_type": "code",
   "execution_count": null,
   "metadata": {},
   "outputs": [],
   "source": [
    "CHIP_ONLY = CHIP.loc[~CHIP.index.isin(comm_index)].index\n",
    "print(f'# removed in ChIP-seq: {len_CHIP-len_comm}/{len_CHIP}')\n",
    "CHIP = CHIP.loc[comm_index]\n",
    "assert (CHIP.index == RNA.index).all()\n",
    "CHIP.to_csv(f'../data/matrices/ChIP_TSS{DISTANCE}_RAW_FILT.csv',index_label='GENE')\n"
   ]
  },
  {
   "cell_type": "code",
   "execution_count": null,
   "metadata": {},
   "outputs": [],
   "source": [
    "from matplotlib_venn import venn2, venn2_circles\n",
    "plt.figure(figsize=(4,4))\n",
    "venn2(subsets=(len_RNA-len_comm, len_CHIP-len_comm, len_comm), set_labels=('RNA-seq\\nLow count', 'ChIP-seq\\n !encode_blacklist'))\n",
    "venn2_circles(subsets=(len_RNA-len_comm, len_CHIP-len_comm, len_comm))\n",
    "plt.title(\"Genes overlap after 2 indipendent filterings\");\n",
    "plt.savefig('../figures/preprocessing/Venn_filtering.pdf', format=\"pdf\", bbox_inches=\"tight\")"
   ]
  },
  {
   "cell_type": "markdown",
   "metadata": {},
   "source": [
    "### Check intersection with bivalent genes in ESC (how many bivalent genes we are discarding?)"
   ]
  },
  {
   "cell_type": "code",
   "execution_count": null,
   "metadata": {},
   "outputs": [],
   "source": [
    "print(f'# removed (in ChIP-seq) because of RNA filtering: {len(CHIP_ONLY)}')\n",
    "BIVALENT_ESC= pd.read_excel('../../00_RegionAnnotation/Gonzalez/bivalent_promoters.xlsx',usecols=[3]).set_index('gene').index\n",
    "BIVALENT_ESC= set(BIVALENT_ESC)\n",
    "CHIP_ONLY = set(CHIP_ONLY)\n",
    "BIV_REM = CHIP_ONLY.intersection(BIVALENT_ESC)"
   ]
  },
  {
   "cell_type": "code",
   "execution_count": null,
   "metadata": {},
   "outputs": [],
   "source": [
    "plt.figure(figsize=(7,7))\n",
    "venn2(subsets=[BIVALENT_ESC,CHIP_ONLY], set_labels=('Bivalent in ES,\\nGonzalez 2021', 'Removed because of RNA filtering'))\n",
    "venn2_circles(subsets=[BIVALENT_ESC,CHIP_ONLY])\n",
    "plt.title(\"Genes overlap after filtering\");\n",
    "plt.savefig('../figures/preprocessing/Venn_bivalent.pdf', format=\"pdf\", bbox_inches=\"tight\")"
   ]
  },
  {
   "cell_type": "code",
   "execution_count": null,
   "metadata": {},
   "outputs": [],
   "source": [
    "len(BIV_REM)\n",
    "RNA_BIV_REM = RNA_MAIN.loc[list(BIV_REM)]\n",
    "RNA_BIV_REM.sort_values('RNA_ESC_1',ascending=0)"
   ]
  },
  {
   "cell_type": "markdown",
   "metadata": {},
   "source": [
    "## QC before data trasformation"
   ]
  },
  {
   "cell_type": "markdown",
   "metadata": {},
   "source": [
    "### RNA-seq"
   ]
  },
  {
   "cell_type": "code",
   "execution_count": null,
   "metadata": {},
   "outputs": [],
   "source": [
    "violins(RNA+1,COL_DICT=CT_COL_DICT,SAVEFIG='../figures/preprocessing/RNA_FPKM_boxplots.png',X_LAB='FPKMs+1',LOG_SCALE=1,TITLE='RAW')"
   ]
  },
  {
   "cell_type": "code",
   "execution_count": null,
   "metadata": {},
   "outputs": [],
   "source": [
    "\n",
    "CT_REG = r'(ESC|MES|CP|CM)'\n",
    "MARKER_LIST=['o','X','^','*']\n",
    "RNA_PCA(RNA.transpose(),  CT_REG=CT_REG, CT_COL_DICT=CT_COL_DICT, \n",
    "        SAVE_PREFIX='RAW') "
   ]
  },
  {
   "cell_type": "markdown",
   "metadata": {},
   "source": [
    "### ChIP-seq"
   ]
  },
  {
   "cell_type": "code",
   "execution_count": null,
   "metadata": {},
   "outputs": [],
   "source": [
    "HM_REG =r'(H3K4me3|H3K27ac|H3K27me3|WCE)'\n",
    "CT_REG = r'(ESC|MES|CP|CM)'\n",
    "MARKER_LIST=['o','X','^','*']\n"
   ]
  },
  {
   "cell_type": "code",
   "execution_count": null,
   "metadata": {},
   "outputs": [],
   "source": [
    "CHIP_PCA_HM(CHIP, HM_LIST=HM_LIST2,MARKER_LIST=MARKER_LIST, CT_REG=CT_REG, CT_COL_DICT=CT_COL_DICT, \n",
    "                SAVE_PREFIX=f'CHIP_RAW')"
   ]
  },
  {
   "cell_type": "code",
   "execution_count": null,
   "metadata": {},
   "outputs": [],
   "source": [
    "violins(CHIP+PSEUDOCOUNT, CT_COL_DICT,f'../figures/preprocessing/ChIP_RAW_boxplots_{DISTANCE}.png',TITLE='RAW',LOG_SCALE=1,X_LAB='x')\n",
    "corr_clustering(CHIP,HM_COL_DICT,CT_COL_DICT,SAVEFIG=f'../figures/preprocessing/ChIP_RAW_corr_clustermap_{DISTANCE}.pdf',\n",
    "                TITLE=f'Samples correlation RAW signal',\n",
    "                CORR_METHOD='kendall',LINK_METHOD='average')\n"
   ]
  },
  {
   "cell_type": "markdown",
   "metadata": {},
   "source": [
    "# ChIP-seq: Divide HM signal over WCE "
   ]
  },
  {
   "cell_type": "markdown",
   "metadata": {},
   "source": [
    "HM_(ct)_(n) /    WCE_(ct)_1"
   ]
  },
  {
   "cell_type": "code",
   "execution_count": null,
   "metadata": {},
   "outputs": [],
   "source": [
    "CHIP = CHIP.filter(regex='^(?!.*WCE.*3)', axis=1) # drop WCE_3 replicates\n",
    "max_max = CHIP.filter(regex='WCE').max().max()\n",
    "#\n",
    "PSEUDOCOUNT=1\n",
    "CHIP_N = CHIP.copy().filter(regex=('^(?!WCE)'))                     + PSEUDOCOUNT\n",
    "\n",
    "for i,CT in enumerate(CT_LIST):\n",
    "    CT_COLS = CHIP_N.filter(regex=CT).columns\n",
    "    print(CT,list(CT_COLS))\n",
    "    WCE_COL = CHIP[f'WCE_{CT}_1']                                   + PSEUDOCOUNT\n",
    "    CHIP_N[CT_COLS] = CHIP_N[CT_COLS].div(WCE_COL, axis=0)\n",
    "    # check not 0 min\n",
    "    not_0_min = CHIP[CHIP[f'WCE_{CT}_1'] != 0][f'WCE_{CT}_1'].min()\n",
    "    min_val = CHIP[f'WCE_{CT}_1'].min()\n",
    "    print(f'WCE_{CT}_1')\n",
    "    print(f'!0 Minimum = {not_0_min}')\n",
    "    print(f'Minimum = {min_val}\\n')\n",
    "    plt.subplot(1,4,i+1)\n",
    "    plt.title(f'WCE_{CT}_1')\n",
    "    sns.boxenplot(CHIP[f'WCE_{CT}_1'],color='grey').set_ylim(-0.05,max_max)\n",
    "    plt.ylabel('')\n",
    "    plt.tight_layout()\n",
    "    sns.despine(bottom=1,right=0)"
   ]
  },
  {
   "cell_type": "code",
   "execution_count": null,
   "metadata": {},
   "outputs": [],
   "source": [
    "violins(CHIP_N, CT_COL_DICT,SAVEFIG=f'../figures/preprocessing/ChIP_RATIO_boxplots_{DISTANCE}.png',TITLE='HM/WCE',LOG_SCALE=1,X_LAB='x')\n",
    "\n",
    "corr_clustering(CHIP_N,HM_COL_DICT,CT_COL_DICT,SAVEFIG=f'../figures/preprocessing/ChIP_RATIO_corr_clustermap_{DISTANCE}.pdf',\n",
    "                TITLE=f'Samples correlation HM/WCE signal',\n",
    "                CORR_METHOD='kendall',LINK_METHOD='average')\n",
    "\n",
    "CHIP_PCA_HM(CHIP_N, HM_LIST=HM_LIST2,MARKER_LIST=MARKER_LIST, CT_REG=CT_REG, CT_COL_DICT=CT_COL_DICT, \n",
    "                SAVE_PREFIX=f'CHIP_RATIO')"
   ]
  },
  {
   "cell_type": "code",
   "execution_count": null,
   "metadata": {},
   "outputs": [],
   "source": [
    "CHIP_N.to_csv(f'../data/matrices/ChIP_TSS{DISTANCE}_RATIO.csv',index_label='GENE')"
   ]
  },
  {
   "cell_type": "markdown",
   "metadata": {},
   "source": [
    "# RNA-seq trasformation  (log and Z-score)"
   ]
  },
  {
   "cell_type": "code",
   "execution_count": null,
   "metadata": {},
   "outputs": [],
   "source": [
    "PSEUDOCOUNT_RNA = 1 \n",
    "RNA_DICT = PREPROCESS_DATA(RNA+PSEUDOCOUNT_RNA)"
   ]
  },
  {
   "cell_type": "code",
   "execution_count": null,
   "metadata": {},
   "outputs": [],
   "source": [
    "SUBSET_KEYS=['original', 'log','log_StdScaler','StdScaler']\n",
    "for i, key in enumerate(SUBSET_KEYS):\n",
    "    print(key)\n",
    "    violins(RNA_DICT[key],COL_DICT=CT_COL_DICT,SAVEFIG=f'../figures/preprocessing/RNA_boxplots_{key}.png',X_LAB='log(FPKMs+1)',LOG_SCALE=0,TITLE=key)\n",
    "    X=RNA_DICT[key].transpose()\n",
    "    RNA_PCA(X, CT_REG=CT_REG, CT_COL_DICT=CT_COL_DICT, \n",
    "            SAVE_PREFIX=f'{key}')"
   ]
  },
  {
   "cell_type": "markdown",
   "metadata": {},
   "source": [
    "## RNA-seq UMAP and t-SNE"
   ]
  },
  {
   "cell_type": "code",
   "execution_count": null,
   "metadata": {},
   "outputs": [],
   "source": [
    "RNA_UMAP(RNA_DICT['log_StdScaler'], CT_REG=CT_REG, CT_COL_DICT=CT_COL_DICT,SAVE_PREFIX='log_StdScaler')\n",
    "RNA_tSNE(RNA_DICT['log_StdScaler'], CT_REG=CT_REG, CT_COL_DICT=CT_COL_DICT,SAVE_PREFIX='log_StdScaler')"
   ]
  },
  {
   "cell_type": "markdown",
   "metadata": {},
   "source": [
    "# ChIP trasformation (log and Z-score)"
   ]
  },
  {
   "cell_type": "code",
   "execution_count": null,
   "metadata": {},
   "outputs": [],
   "source": [
    "X = CHIP_N.copy()\n",
    "\n",
    "X.iloc[:,:] = np.log10(X.iloc[:,:])\n",
    "\n",
    "X.iloc[:,:] = StandardScaler(with_mean=True).fit_transform(X.iloc[:,:])\n"
   ]
  },
  {
   "cell_type": "code",
   "execution_count": null,
   "metadata": {},
   "outputs": [],
   "source": [
    "violins(X,COL_DICT=CT_COL_DICT,SAVEFIG=f'../figures/preprocessing/CHIP_boxplots_{key}.png',X_LAB='x',LOG_SCALE=0,TITLE=key,SAT=1)\n",
    "CHIP_PCA_HM(X, HM_LIST=HM_LIST2,MARKER_LIST=MARKER_LIST, CT_REG=CT_REG, CT_COL_DICT=CT_COL_DICT, \n",
    "        SAVE_PREFIX=f'CHIP_{key}')\n",
    "corr_clustering(X,HM_COL_DICT,CT_COL_DICT,SAVEFIG=f'../figures/preprocessing/ChIP_log_stdscaler_corr_clustermap_{DISTANCE}.pdf',\n",
    "                TITLE=f'Samples correlation log_stdscaler',\n",
    "                CORR_METHOD='kendall',LINK_METHOD='average')"
   ]
  },
  {
   "cell_type": "code",
   "execution_count": null,
   "metadata": {},
   "outputs": [],
   "source": [
    "CHIP_DICT = PREPROCESS_DATA(CHIP_N)\n",
    "CHIP_DICT.keys()"
   ]
  },
  {
   "cell_type": "code",
   "execution_count": null,
   "metadata": {},
   "outputs": [],
   "source": [
    "SUBSET_KEYS=['original', 'log','log_StdScaler','StdScaler']\n"
   ]
  },
  {
   "cell_type": "code",
   "execution_count": null,
   "metadata": {},
   "outputs": [],
   "source": [
    "HM_REG =r'(H3K4me3|H3K27ac|H3K27me3)'\n",
    "CT_REG = r'(ESC|MES|CP|CM)'\n",
    "MARKER_LIST=['o','X','^']\n",
    "\n",
    "for i, key in enumerate(SUBSET_KEYS):\n",
    "    print(key)\n",
    "    violins(CHIP_DICT[key],COL_DICT=CT_COL_DICT,SAVEFIG=f'../figures/preprocessing/CHIP_boxplots_{key}.png',X_LAB='Z-score(log(x))',LOG_SCALE=0,TITLE=key,SAT=1)\n",
    "    CHIP_PCA_HM(CHIP_DICT[key], HM_LIST=HM_LIST2,MARKER_LIST=MARKER_LIST, CT_REG=CT_REG, CT_COL_DICT=CT_COL_DICT, \n",
    "            SAVE_PREFIX=f'CHIP_{key}')\n",
    "    \n",
    "    corr_clustering(CHIP_DICT[key],HM_COL_DICT,CT_COL_DICT,SAVEFIG=f'../figures/preprocessing/CHIP_{key}_corr_clustermap_{DISTANCE}.pdf',\n",
    "                TITLE=f'Samples correlation {key}',\n",
    "                CORR_METHOD='kendall',LINK_METHOD='average')"
   ]
  },
  {
   "cell_type": "markdown",
   "metadata": {},
   "source": [
    "## ChIP-seq UMAP and t-SNE"
   ]
  },
  {
   "cell_type": "code",
   "execution_count": null,
   "metadata": {},
   "outputs": [],
   "source": [
    "CHIP_UMAP(CHIP_DICT['log_StdScaler'], HM_REG=HM_REG,MARKER_LIST=MARKER_LIST, CT_REG=CT_REG, CT_COL_DICT=CT_COL_DICT, \n",
    "        SAVE_PREFIX='log_StdScaler')\n",
    "CHIP_tSNE(CHIP_DICT['log_StdScaler'], HM_REG=HM_REG,MARKER_LIST=MARKER_LIST, CT_REG=CT_REG, CT_COL_DICT=CT_COL_DICT, \n",
    "        SAVE_PREFIX='log_StdScaler')"
   ]
  },
  {
   "cell_type": "markdown",
   "metadata": {},
   "source": [
    "# ALL (genes)"
   ]
  },
  {
   "cell_type": "markdown",
   "metadata": {},
   "source": [
    "Genes->     ALL / DE \n",
    "\n",
    "Features->  X / FC / X_FC"
   ]
  },
  {
   "cell_type": "markdown",
   "metadata": {},
   "source": [
    "## ALL_X"
   ]
  },
  {
   "cell_type": "code",
   "execution_count": null,
   "metadata": {},
   "outputs": [],
   "source": [
    "DATA_DIR=f'../data/matrices/ALL/'\n",
    "! mkdir -p {DATA_DIR}\n",
    "RNA_log = RNA_DICT['log'].copy()\n",
    "CHIP_log = CHIP_DICT['log'].copy()\n",
    "assert (RNA_log.index == CHIP_log.index).all()\n",
    "ALL_X = pd.concat((RNA_log, CHIP_log), axis=1)\n",
    "#violins(ALL_X,COL_DICT=HM_COL_DICT,SAVEFIG='./figures/preprocessing/ALL_X.pdf',X_LAB='log(x)',TITLE='ALL_X',SAT=0.75)\n",
    "ALL_X.to_csv(f'{DATA_DIR}ALL_X.csv', index_label='GENE')\n",
    "# Z-score\n",
    "ALL_X_z = ALL_X.copy()\n",
    "ALL_X_z.iloc[:,:] = StandardScaler().fit_transform(ALL_X_z.iloc[:,:])\n",
    "#violins(ALL_X_z,COL_DICT=HM_COL_DICT,SAVEFIG='./figures/preprocessing/ALL_X_z.pdf',X_LAB='Z-score(log(x))',TITLE='ALL_X_z',SAT=0.75)\n",
    "ALL_X_z.to_csv(f'{DATA_DIR}ALL_X_z.csv', index_label='GENE')\n"
   ]
  },
  {
   "cell_type": "markdown",
   "metadata": {},
   "source": [
    "## ALL_FC"
   ]
  },
  {
   "cell_type": "markdown",
   "metadata": {},
   "source": [
    "### RNA FC"
   ]
  },
  {
   "cell_type": "code",
   "execution_count": null,
   "metadata": {},
   "outputs": [],
   "source": [
    "RNA_FC = RNA_STATS.filter(regex='FoldChange').add_prefix('RNA_')\n",
    "new_column_names = {col: col.replace('log2FoldChange', 'FC') for col in RNA_FC.columns}\n",
    "RNA_FC = RNA_FC.rename(columns=new_column_names)\n",
    "RNA_FC = RNA_FC.loc[ALL_X.index] #filter\n",
    "print(RNA_FC.isna().any(axis=1).sum())\n",
    "RNA_FC = RNA_FC.fillna(0)\n",
    "RNA_FC.isna().sum().sum()"
   ]
  },
  {
   "cell_type": "code",
   "execution_count": null,
   "metadata": {},
   "outputs": [],
   "source": [
    "\n",
    "#\n",
    "assert (RNA_FC.index == ALL_X.index).all()\n",
    "RNA_FC_z = RNA_FC.copy()\n",
    "RNA_FC_z.iloc[:,:] = StandardScaler(with_mean=False).fit_transform(RNA_FC_z.iloc[:,:])\n",
    "#violins(RNA_FC_STD, COL_DICT=CT_COL_DICT,SAVEFIG='./figures/preprocessing/RNA_FC_STD_boxplots.pdf',X_LAB='log2FC')"
   ]
  },
  {
   "cell_type": "markdown",
   "metadata": {},
   "source": [
    "### CHIP FC"
   ]
  },
  {
   "cell_type": "code",
   "execution_count": null,
   "metadata": {},
   "outputs": [],
   "source": [
    "PREFIXES = []\n",
    "for HM in HM_LIST2:\n",
    "    for CT in CT_LIST:\n",
    "        PREFIXES.append(HM+'_'+CT)\n",
    "#\n",
    "CHIP_AVG= calculate_mean_features(CHIP_N,PREFIXES)"
   ]
  },
  {
   "cell_type": "code",
   "execution_count": null,
   "metadata": {},
   "outputs": [],
   "source": [
    "CHIP_FC = CHIP_AVG.copy()\n",
    "for HM in HM_LIST2:\n",
    "    TMP = CHIP_AVG.filter(regex=HM)\n",
    "    print(TMP.columns)\n",
    "    for PAIRS in COMB:\n",
    "        print(PAIRS)\n",
    "        CT1, CT2 = PAIRS\n",
    "        CHIP_FC[f'{HM}_{CT1}_{CT2}_FC'] = TMP[f'{HM}_{CT1}'] / TMP[f'{HM}_{CT2}']\n",
    "CHIP_FC = CHIP_FC.filter(regex='FC')\n",
    "CHIP_FC.iloc[:,:] = np.log2(CHIP_FC.iloc[:,:])\n",
    "CHIP_FC_z = CHIP_FC.copy()\n",
    "CHIP_FC_z.iloc[:,:] = StandardScaler(with_mean=False).fit_transform(CHIP_FC_z.iloc[:,:])\n"
   ]
  },
  {
   "cell_type": "code",
   "execution_count": null,
   "metadata": {},
   "outputs": [],
   "source": [
    "assert (ALL_X.index == RNA_FC.index).all() and (ALL_X.index == CHIP_FC.index).all()\n",
    "#ALL_FC = pd.concat((RNA_FC, CHIP_FC), axis=1)\n",
    "ALL_FC = RNA_FC.copy()\n",
    "ALL_FC.to_csv(f'{DATA_DIR}ALL_FC.csv', index_label='GENE')\n",
    "#violins(ALL_FC,COL_DICT=HM_COL_DICT,SAVEFIG='./figures/preprocessing/ALL_FC.pdf',X_LAB='log(x)',TITLE='ALL_FC')"
   ]
  },
  {
   "cell_type": "code",
   "execution_count": null,
   "metadata": {},
   "outputs": [],
   "source": [
    "assert (ALL_X_z.index == RNA_FC_z.index).all() and (ALL_X_z.index == CHIP_FC_z.index).all()\n",
    "#ALL_FC_z = pd.concat((RNA_FC_z, CHIP_FC_z), axis=1)\n",
    "ALL_FC_z = RNA_FC_z.copy()\n",
    "ALL_FC_z.to_csv(f'{DATA_DIR}ALL_FC_z.csv', index_label='GENE')\n",
    "#violins(ALL_FC_z,COL_DICT=HM_COL_DICT,SAVEFIG='./figures/preprocessing/ALL_FC_z.png',X_LAB='Z-score(log(x))',TITLE='ALL_FC_z')"
   ]
  },
  {
   "cell_type": "markdown",
   "metadata": {},
   "source": [
    "## ALL_X_FC"
   ]
  },
  {
   "cell_type": "code",
   "execution_count": null,
   "metadata": {},
   "outputs": [],
   "source": [
    "assert (ALL_X.index == ALL_FC.index).all() \n",
    "ALL_X_FC = pd.concat((ALL_X,ALL_FC),axis=1)\n",
    "ALL_X_FC.to_csv(f'{DATA_DIR}ALL_X_FC.csv', index_label='GENE')\n",
    "violins(ALL_X_FC,COL_DICT=HM_COL_DICT,SAVEFIG='../figures/preprocessing/ALL_X_FC.png',X_LAB='log(x)',TITLE='ALL_X_FC')"
   ]
  },
  {
   "cell_type": "code",
   "execution_count": null,
   "metadata": {},
   "outputs": [],
   "source": [
    "assert (ALL_X_z.index == ALL_FC_z.index).all() \n",
    "ALL_X_FC_z = pd.concat((ALL_X_z,ALL_FC_z),axis=1)\n",
    "ALL_X_FC_z.to_csv(f'{DATA_DIR}ALL_X_FC_z.csv', index_label='GENE')\n",
    "violins(ALL_X_FC_z,COL_DICT=HM_COL_DICT,SAVEFIG='../figures/preprocessing/ALL_X_FC_z.png',X_LAB='Z-score(log(x))',TITLE='ALL_X_FC_z')"
   ]
  },
  {
   "cell_type": "markdown",
   "metadata": {},
   "source": [
    "# DE_ and DE_FC Datasets"
   ]
  },
  {
   "cell_type": "markdown",
   "metadata": {},
   "source": [
    "### DE_RNA_FC"
   ]
  },
  {
   "cell_type": "code",
   "execution_count": null,
   "metadata": {},
   "outputs": [],
   "source": [
    "DATA_DIR=f'../data/matrices/DE/'\n",
    "! mkdir -p {DATA_DIR}\n",
    "DE_RNA_FC = RNA_STATS.filter(regex='FoldChange|pvalue')\n",
    "new_column_names = {col: col.replace('log2FoldChange', 'FC') for col in DE_RNA_FC.columns}\n",
    "DE_RNA_FC = DE_RNA_FC.rename(columns=new_column_names)\n",
    "DE_RNA_FC = DE_RNA_FC.loc[ALL_X.index] #filter out ChIP high signal\n",
    "#\n",
    "FILTER = np.zeros(DE_RNA_FC.shape[0], dtype=bool)\n",
    "for comb in COMB:\n",
    "    comb = f'{comb[0]}_{comb[1]}'\n",
    "    FILTER2 = ((DE_RNA_FC[f'{comb}_pvalue'] < 0.05) & (DE_RNA_FC[f'{comb}_FC'].abs() > 1))\n",
    "    print(f'{comb}: {FILTER2.sum()}')\n",
    "    FILTER = FILTER | FILTER2\n",
    "print(FILTER.sum())\n",
    "DE_RNA_FC = DE_RNA_FC[FILTER].filter(regex='FC').add_prefix('RNA_')      \n",
    "print(f'NaN -> 0: #{DE_RNA_FC.isna().sum().sum()}')   \n",
    "DE_RNA_FC = DE_RNA_FC.fillna(0)              "
   ]
  },
  {
   "cell_type": "markdown",
   "metadata": {},
   "source": [
    "### DE_ChIP_FC"
   ]
  },
  {
   "cell_type": "code",
   "execution_count": null,
   "metadata": {},
   "outputs": [],
   "source": [
    "DE_CHIP_FC = CHIP_FC.loc[DE_RNA_FC.index]\n",
    "assert (DE_CHIP_FC.index == DE_RNA_FC.index).all()\n",
    "#DE_FC = pd.concat((DE_RNA_FC, DE_CHIP_FC), axis=1)\n",
    "DE_FC = DE_RNA_FC.copy()\n",
    "DE_FC.to_csv(f'{DATA_DIR}DE_FC.csv', index_label='GENE')\n",
    "#\n",
    "DE_FC_z = DE_FC.copy()\n",
    "DE_FC_z.iloc[:,:] = StandardScaler().fit_transform(DE_FC_z.iloc[:,:])\n",
    "DE_FC_z.to_csv(f'{DATA_DIR}DE_FC_z.csv', index_label='GENE')"
   ]
  },
  {
   "cell_type": "markdown",
   "metadata": {},
   "source": [
    "### DE_X and DE_X_z"
   ]
  },
  {
   "cell_type": "code",
   "execution_count": null,
   "metadata": {},
   "outputs": [],
   "source": [
    "DE_X = ALL_X.loc[DE_FC.index]\n",
    "DE_X.to_csv(f'{DATA_DIR}DE_X.csv', index_label='GENE')\n",
    "#\n",
    "DE_X_z = DE_X.copy()\n",
    "DE_X_z.iloc[:,:] = StandardScaler().fit_transform(DE_X_z.iloc[:,:])\n",
    "DE_X_z.to_csv(f'{DATA_DIR}DE_X_z.csv', index_label='GENE')"
   ]
  },
  {
   "cell_type": "markdown",
   "metadata": {},
   "source": [
    "### DE_X_FC and DE_X_FC_z"
   ]
  },
  {
   "cell_type": "code",
   "execution_count": null,
   "metadata": {},
   "outputs": [],
   "source": [
    "assert (DE_X.index == DE_FC.index).all()\n",
    "DE_X_FC = pd.concat((DE_X, DE_FC), axis=1)\n",
    "DE_X_FC.to_csv(f'{DATA_DIR}DE_X_FC.csv', index_label='GENE')\n",
    "#violins(DE_X_FC,COL_DICT=HM_COL_DICT,SAVEFIG='./figures/preprocessing/DE_X_FC.pdf',X_LAB='log(x)',TITLE='DE_X_FC')\n",
    "assert (DE_X_z.index == DE_FC_z.index).all()\n",
    "DE_X_FC_z = pd.concat((DE_X_z, DE_FC_z), axis=1)\n",
    "DE_X_FC_z.to_csv(f'{DATA_DIR}DE_X_FC_z.csv', index_label='GENE')\n",
    "violins(DE_X_FC_z,COL_DICT=HM_COL_DICT,SAVEFIG='../figures/preprocessing/DE_X_FC_z.png',X_LAB='Z-score(log(x))',TITLE='DE_X_FC_z')"
   ]
  }
 ],
 "metadata": {
  "kernelspec": {
   "display_name": "DL",
   "language": "python",
   "name": "python3"
  },
  "language_info": {
   "codemirror_mode": {
    "name": "ipython",
    "version": 3
   },
   "file_extension": ".py",
   "mimetype": "text/x-python",
   "name": "python",
   "nbconvert_exporter": "python",
   "pygments_lexer": "ipython3",
   "version": "3.10.14"
  }
 },
 "nbformat": 4,
 "nbformat_minor": 2
}
