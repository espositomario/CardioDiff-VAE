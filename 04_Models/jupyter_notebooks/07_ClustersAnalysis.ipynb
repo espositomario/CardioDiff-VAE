{
 "cells": [
  {
   "cell_type": "markdown",
   "metadata": {},
   "source": [
    "### Set parameters and names"
   ]
  },
  {
   "cell_type": "code",
   "execution_count": null,
   "metadata": {},
   "outputs": [],
   "source": [
    "from CustomObjects import *\n",
    "%matplotlib inline\n",
    "%config InlineBackend.figure_format = 'retina'\n"
   ]
  },
  {
   "cell_type": "code",
   "execution_count": null,
   "metadata": {},
   "outputs": [],
   "source": [
    "INPUT_GENES    = 'ALL'\n",
    "INPUT_FEATURES = 'X_FC'\n",
    "INPUT_NORM     = 'z'\n",
    "CODINGS_SIZE = 6\n",
    "\n",
    "ID     = f'{CODINGS_SIZE}D_{INPUT_GENES}_{INPUT_FEATURES}_{INPUT_NORM}'\n",
    "METHOD = 'VAE'\n",
    "k      = 80\n",
    "LABELS_COL = f'GMM_{METHOD}_{k}'\n",
    "DIR_DATA= f'../data/{ID}_analysis/{LABELS_COL}/'\n",
    "DIR_FIG = f'../figures/{ID}_analysis/{METHOD}/Clusters_k{k}'\n",
    "! mkdir -p {DIR_FIG}\n",
    "# set cmap\n",
    "GMM_LABELS = f'GMM_{METHOD}_{k}'\n"
   ]
  },
  {
   "cell_type": "code",
   "execution_count": null,
   "metadata": {},
   "outputs": [],
   "source": [
    "with open(f'{DIR_DATA}gene_clusters_dict.pkl', 'rb') as f:\n",
    "    GENE_CLUSTERS = pickle.load(f)\n"
   ]
  },
  {
   "cell_type": "code",
   "execution_count": null,
   "metadata": {},
   "outputs": [],
   "source": [
    "\n",
    "def cluster_intersection(CAT_DICT, gene_clusters):\n",
    "    # Create a DataFrame with cluster ids as rows and cell types as columns\n",
    "    cluster_ids = [int(cluster_id) for cluster_id in list(gene_clusters.keys())]\n",
    "    CATEGORIES = list(CAT_DICT.keys())\n",
    "    df = pd.DataFrame(0, index=cluster_ids, columns=CATEGORIES)\n",
    "\n",
    "    # Populate the DataFrame with counts of marker genes in each cluster\n",
    "    for CAT, GENE_LIST in CAT_DICT.items():\n",
    "        GENE_LIST = set(GENE_LIST)\n",
    "        \n",
    "        for cluster_id, cluster_info in gene_clusters.items():\n",
    "            cluster_genes = set(cluster_info['gene_list'])\n",
    "            intersection = GENE_LIST.intersection(cluster_genes)\n",
    "            \n",
    "            # Update the DataFrame with the count of marker genes in the intersection\n",
    "            df.at[int(cluster_id), CAT] = len(intersection)\n",
    "    \n",
    "    return df\n",
    "\n"
   ]
  },
  {
   "cell_type": "code",
   "execution_count": null,
   "metadata": {},
   "outputs": [],
   "source": [
    "\n",
    "def plot_barplots_clusters(df, COL_DICT, TITLE=None, Y_LAB = 'Counts', ADD_LABELS=False):\n",
    "    # Get unique cluster labels\n",
    "    unique_clusters = df.index.unique()\n",
    "    num_clusters = len(unique_clusters)\n",
    "\n",
    "    # Set up subplots\n",
    "    #fig, axes = plt.subplots(num_clusters // 5 + 1, 5, figsize=(6, 4 + (num_clusters // 5) * 1.5))\n",
    "    fig, axes = plt.subplots(num_clusters // 8 , 8, figsize=( 4 + ((num_clusters // 5) * 0.75),12) )\n",
    "    \n",
    "    plt.suptitle(TITLE, fontsize=20, y=1.02)\n",
    "    \n",
    "    # Iterate over each cluster\n",
    "    for idx, cluster in enumerate(unique_clusters):\n",
    "        # Get the row index and column index for subplots\n",
    "        col_index = idx % 8\n",
    "        row_index = idx // 8\n",
    "\n",
    "        # Select the data for the current cluster\n",
    "        cluster_data = df.iloc[cluster]\n",
    "        \n",
    "        # Create barplot\n",
    "        ax = sns.barplot(ax=axes[row_index, col_index], x=cluster_data.index, y=cluster_data.values, hue=cluster_data.index,\n",
    "                            palette=COL_DICT, saturation=1)\n",
    "        \n",
    "        if ADD_LABELS:# Add the count values over each bar if > 0\n",
    "            for p in ax.patches:\n",
    "                height = p.get_height()\n",
    "                if height > 0:\n",
    "                    ax.annotate(f'{int(height)}', \n",
    "                                (p.get_x() + p.get_width() / 2., height), \n",
    "                                ha='center', va='center', \n",
    "                                xytext=(0, 5), \n",
    "                                textcoords='offset points')\n",
    "\n",
    "        sns.despine()\n",
    "        \n",
    "        # Set title and labels\n",
    "        axes[row_index, col_index].set_title(f'C{cluster}', size=14)\n",
    "        \n",
    "        # Set y limits equal for all plots\n",
    "        max_value = df.max().max()\n",
    "\n",
    "        axes[row_index, col_index].set_ylim(0, max_value)  # Adjust the limits as per your data range\n",
    "        \n",
    "        axes[row_index, col_index].set_yticks([max_value])\n",
    "        axes[row_index, col_index].set_yticklabels([f'{int(max_value)}'],fontsize=12)\n",
    "        \n",
    "        # Hide horizontal grid lines\n",
    "        axes[row_index, col_index].yaxis.grid(False)\n",
    "\n",
    "        if row_index == (num_clusters // 5):\n",
    "            axes[row_index, col_index].set_xlabel('Cell Type', fontsize=12)\n",
    "        else:        \n",
    "            axes[row_index, col_index].set_xticklabels('')\n",
    "            axes[row_index, col_index].set_xlabel('')\n",
    "        \n",
    "        # Remove y-axis label for all but the first plot\n",
    "        if col_index != 0: \n",
    "            axes[row_index, col_index].set_yticklabels('')\n",
    "            axes[row_index, col_index].set_ylabel('')\n",
    "        else:\n",
    "            axes[row_index, col_index].set_ylabel(Y_LAB,fontsize=12)\n",
    "\n",
    "    # Adjust layout\n",
    "    plt.tight_layout()"
   ]
  },
  {
   "cell_type": "code",
   "execution_count": null,
   "metadata": {},
   "outputs": [],
   "source": [
    "import squarify\n",
    "\n",
    "def plot_treemap_clusters(df, COL_DICT, TITLE=None, RATIO=5, MAX_AREA=None):\n",
    "    # Ensure the DataFrame index is unique\n",
    "    df = df.reset_index(drop=True)\n",
    "    \n",
    "    if MAX_AREA:\n",
    "        MAX_AREA = f\" (Max Area: {int(MAX_AREA)}%)\"\n",
    "        TITLE = TITLE + MAX_AREA\n",
    "        \n",
    "    COL_DICT['other'] = 'white'\n",
    "    # Get the number of clusters\n",
    "    num_clusters = df.shape[0]\n",
    "\n",
    "    # Set up subplots\n",
    "    rows = num_clusters // 8 + 1\n",
    "    fig, axes = plt.subplots(rows, 8, figsize=( 4 + ((num_clusters // 5) * 1.5),((12/5)/RATIO)*12))\n",
    "    \n",
    "    plt.suptitle(TITLE, fontsize=20, y=1.02)\n",
    "    \n",
    "    # Flatten axes array for easy iteration\n",
    "    if rows > 1:\n",
    "        axes = axes.flatten()\n",
    "    else:\n",
    "        axes = [axes]\n",
    "    \n",
    "    # Iterate over each cluster\n",
    "    for idx in range(num_clusters):\n",
    "        # Select the data for the current cluster\n",
    "        cluster_data = df.iloc[idx]\n",
    "        \n",
    "        # Filter out zero values\n",
    "        cluster_data = cluster_data[cluster_data > 0]\n",
    "\n",
    "        # Prepare data for the treemap\n",
    "        sizes = cluster_data.values\n",
    "        labels = cluster_data.index\n",
    "        colors = [COL_DICT[label] for label in labels]\n",
    "\n",
    "        # Create treemap\n",
    "        squarify.plot(sizes=sizes,  color=colors, ax=axes[idx], alpha=1, pad=0,ec = 'black',\n",
    "                        \n",
    "                        norm_x = 100, \n",
    "                        norm_y = 5)\n",
    "        \n",
    "        axes[idx].set_title(f'C{idx}', size=34)\n",
    "        axes[idx].axis('off')\n",
    "        \n",
    "        axes[idx].set_yticks([RATIO])\n",
    "\n",
    "    # Hide unused subplots\n",
    "    for j in range(idx + 1, len(axes)):\n",
    "        fig.delaxes(axes[j])\n",
    "\n",
    "    # Adjust layout\n",
    "    plt.tight_layout()\n",
    "    plt.subplots_adjust(top=0.9)  # Adjust top to make room for suptitle"
   ]
  },
  {
   "cell_type": "markdown",
   "metadata": {},
   "source": [
    "# TOP CV (CT max) and BOTTOM CV"
   ]
  },
  {
   "cell_type": "code",
   "execution_count": null,
   "metadata": {},
   "outputs": [],
   "source": [
    "name = 'TOP'\n",
    "N_TOP = 4000\n",
    "with open(f'../data/RNA_CV/{name}{N_TOP}/dict.pkl', 'rb') as f:\n",
    "    TOP_CV = pickle.load(f)\n",
    "    \n",
    "#\n",
    "name = 'BOTTOM'\n",
    "with open(f'../data/RNA_CV/{name}{N_TOP}/dict.pkl', 'rb') as f:\n",
    "    BOTTOM_CV = pickle.load(f)\n",
    "# \n",
    "STABLE = [gene for gene_list in BOTTOM_CV.values() for gene in gene_list]\n",
    "TOP_CV['STABLE'] = STABLE"
   ]
  },
  {
   "cell_type": "code",
   "execution_count": null,
   "metadata": {},
   "outputs": [],
   "source": [
    "CV_COL_DICT = {'RNA_ESC': '#405074', 'RNA_MES': '#7d5185', 'RNA_CP': '#c36171', 'RNA_CM': '#eea98d',\n",
    "                'STABLE':'#B4CD6F'}\n",
    "export_legend(CV_COL_DICT, f'{DIR_FIG}/CV_legend.pdf')\n"
   ]
  },
  {
   "cell_type": "markdown",
   "metadata": {},
   "source": [
    "### Intersection as % of list in the cluster"
   ]
  },
  {
   "cell_type": "code",
   "execution_count": null,
   "metadata": {},
   "outputs": [],
   "source": [
    "INTERSECTION_CV = cluster_intersection(TOP_CV, GENE_CLUSTERS)\n",
    "COL_SUM = INTERSECTION_CV.sum()\n",
    "INTERSECTION_CV = INTERSECTION_CV.div(COL_SUM, axis=1) * 100\n",
    "#\n",
    "plot_barplots_clusters(INTERSECTION_CV, CV_COL_DICT, TITLE=f'CellType max CV overlaps (% of list)',\n",
    "                        Y_LAB='% of list', ADD_LABELS=False)\n",
    "plt.savefig(f'{DIR_FIG}/Intersection_TOP{N_TOP}_CV_perc_list.pdf', format=\"pdf\", bbox_inches=\"tight\")\n",
    "\n"
   ]
  },
  {
   "cell_type": "markdown",
   "metadata": {},
   "source": [
    "### Intersection as % of cluster belonging to the list"
   ]
  },
  {
   "cell_type": "code",
   "execution_count": null,
   "metadata": {},
   "outputs": [],
   "source": [
    "len_values = {int(key): GENE_CLUSTERS[key]['len'] for key in GENE_CLUSTERS}\n",
    "CLUSTERS_LEN = pd.Series(len_values).sort_index()\n",
    "#\n",
    "INTERSECTION_CV = cluster_intersection(TOP_CV, GENE_CLUSTERS)\n",
    "INTERSECTION_CV = INTERSECTION_CV.div(CLUSTERS_LEN, axis=0) * 100\n",
    "#\n",
    "plot_barplots_clusters(INTERSECTION_CV, CV_COL_DICT, TITLE=f'CellType max CV overlap (% of cluster)',\n",
    "                        Y_LAB='% of cluster', ADD_LABELS=False)\n",
    "plt.savefig(f'{DIR_FIG}/Intersection_TOP{N_TOP}_CV_perc_cluster.pdf', format=\"pdf\", bbox_inches=\"tight\")\n",
    "\n"
   ]
  },
  {
   "cell_type": "code",
   "execution_count": null,
   "metadata": {},
   "outputs": [],
   "source": [
    "len_values = {int(key): GENE_CLUSTERS[key]['len'] for key in GENE_CLUSTERS}\n",
    "CLUSTERS_LEN = pd.Series(len_values).sort_index()\n",
    "#\n",
    "INTERSECTION_CV = cluster_intersection(TOP_CV, GENE_CLUSTERS)\n",
    "INTERSECTION_CV = INTERSECTION_CV.div(CLUSTERS_LEN, axis=0) * 100\n",
    "INTERSECTION_CV['other'] = 100 - INTERSECTION_CV.sum(axis=1)\n",
    "INTERSECTION_CV\n",
    "\n",
    "plot_treemap_clusters(INTERSECTION_CV, CV_COL_DICT, TITLE=f'CellType max CV overlap (% of cluster)',\n",
    "                        RATIO=1.5, MAX_AREA=100)\n",
    "plt.savefig(f'{DIR_FIG}/Intersection_TOP{N_TOP}_CV_perc_cluster_TREEMAP.pdf', format=\"pdf\", bbox_inches=\"tight\")\n"
   ]
  },
  {
   "cell_type": "markdown",
   "metadata": {},
   "source": [
    "### Gene sets"
   ]
  },
  {
   "cell_type": "code",
   "execution_count": null,
   "metadata": {},
   "outputs": [],
   "source": [
    "GS_COL_DICT = assign_palette('rainbow', GENE_SETS)"
   ]
  },
  {
   "cell_type": "markdown",
   "metadata": {},
   "source": [
    "#### % of list"
   ]
  },
  {
   "cell_type": "code",
   "execution_count": null,
   "metadata": {},
   "outputs": [],
   "source": [
    "INTERSECTION_GS = cluster_intersection(GENE_SETS, GENE_CLUSTERS)\n",
    "COL_SUM = INTERSECTION_GS.sum()\n",
    "INTERSECTION_GS = INTERSECTION_GS.div(COL_SUM, axis=1) * 100\n",
    "#\n",
    "export_legend(GS_COL_DICT, f'{DIR_FIG}/GENE_SETS_legend.pdf')\n",
    "plot_barplots_clusters(INTERSECTION_GS, GS_COL_DICT, TITLE=f'GeneSets overlap (% of list)',\n",
    "                        Y_LAB='% of list', ADD_LABELS=False)\n",
    "plt.savefig(f'{DIR_FIG}/Intersection_GENE_SETS_perc_list.pdf', format=\"pdf\", bbox_inches=\"tight\")\n"
   ]
  },
  {
   "cell_type": "markdown",
   "metadata": {},
   "source": [
    "#### % of cluster"
   ]
  },
  {
   "cell_type": "code",
   "execution_count": null,
   "metadata": {},
   "outputs": [],
   "source": [
    "INTERSECTION_GS = cluster_intersection(GENE_SETS, GENE_CLUSTERS)\n",
    "INTERSECTION_GS = INTERSECTION_GS.div(CLUSTERS_LEN, axis=0) * 100\n",
    "MAX = INTERSECTION_GS.sum(axis=1).max()\n",
    "INTERSECTION_GS['other'] = MAX - INTERSECTION_GS.sum(axis=1)\n",
    "\n",
    "export_legend(GS_COL_DICT, f'{DIR_FIG}/GENE_SETS_{LABELS_COL}_legend.pdf')\n",
    "plot_treemap_clusters(INTERSECTION_GS, GS_COL_DICT, TITLE=f'GeneSets overlap (% of cluster)',\n",
    "                        RATIO=1.5, MAX_AREA=MAX )\n",
    "plt.savefig(f'{DIR_FIG}/Intersection_GENE_SETS_perc_cluster_TREEMAP.pdf', format=\"pdf\", bbox_inches=\"tight\")\n"
   ]
  },
  {
   "cell_type": "markdown",
   "metadata": {},
   "source": [
    "### Bivalent/Active Gonzalez"
   ]
  },
  {
   "cell_type": "code",
   "execution_count": null,
   "metadata": {},
   "outputs": [],
   "source": [
    "INTERSECTION_BIV = cluster_intersection(GONZALEZ, GENE_CLUSTERS)\n",
    "COL_SUM = INTERSECTION_BIV.sum()\n",
    "INTERSECTION_BIV = INTERSECTION_BIV.div(COL_SUM, axis=1) * 100\n",
    "#\n",
    "export_legend(GONZALEZ_COL_DICT, f'{DIR_FIG}/Gonzalez_legend.pdf')\n",
    "plot_barplots_clusters(INTERSECTION_BIV, GONZALEZ_COL_DICT, TITLE=f'Gonzalez overlap (% of list)',\n",
    "                        Y_LAB='% of list', ADD_LABELS=False)\n",
    "plt.savefig(f'{DIR_FIG}/Intersection_Gonzalez_perc_list.pdf', format=\"pdf\", bbox_inches=\"tight\")\n"
   ]
  },
  {
   "cell_type": "markdown",
   "metadata": {},
   "source": [
    "#### % of cluster"
   ]
  },
  {
   "cell_type": "code",
   "execution_count": null,
   "metadata": {},
   "outputs": [],
   "source": [
    "INTERSECTION_BIV = cluster_intersection(GONZALEZ, GENE_CLUSTERS)\n",
    "INTERSECTION_BIV = INTERSECTION_BIV.div(CLUSTERS_LEN, axis=0) * 100\n",
    "MAX = INTERSECTION_BIV.sum(axis=1).max()\n",
    "INTERSECTION_BIV['other'] = MAX - INTERSECTION_BIV.sum(axis=1)\n",
    "plot_treemap_clusters(INTERSECTION_BIV, GONZALEZ_COL_DICT, TITLE=f'{LABELS_COL} Gonzalez overlap (% of cluster)',\n",
    "                        RATIO=1.5, MAX_AREA=MAX )\n",
    "plt.savefig(f'{DIR_FIG}/Intersection_Gonzalez_perc_cluster_TREEMAP.pdf', format=\"pdf\", bbox_inches=\"tight\")"
   ]
  },
  {
   "cell_type": "markdown",
   "metadata": {},
   "source": [
    "# Individual cluster analysis"
   ]
  },
  {
   "cell_type": "code",
   "execution_count": null,
   "metadata": {},
   "outputs": [],
   "source": [
    "CODE = pd.read_csv(f'../data/{ID}_analysis/CODE.csv',index_col='GENE')\n",
    "#\n",
    "LOG = pd.read_csv(f'../data/matrices/ALL/ALL_X_FC.csv').set_index('GENE')\n",
    "X_FEATURES = LOG.filter(regex='^(?!.*FC).*$').columns\n",
    "gene_to_cluster = {}\n",
    "for cluster_id, gene_list in GENE_CLUSTERS.items():\n",
    "    for gene in gene_list['gene_list']:\n",
    "        gene_to_cluster[gene] = cluster_id\n",
    "\n",
    "# Map the cluster IDs to the LOG DataFrame\n",
    "LOG[GMM_LABELS] = LOG.index.map(gene_to_cluster).astype(int)\n",
    "CODE[GMM_LABELS] = LOG.index.map(gene_to_cluster).astype(int)"
   ]
  },
  {
   "cell_type": "code",
   "execution_count": null,
   "metadata": {},
   "outputs": [],
   "source": [
    "def plot_boxplots_clusters(df, CLUSTER_COL, FEATURE_PREFIXES, HM_COL_DICT=None, X_LINE=0, TITLE=None, X_LAB='Z-score'):\n",
    "    # Get unique GMM_LABELS\n",
    "    unique_labels = df[CLUSTER_COL].sort_values().unique()\n",
    "    num_labels = len(unique_labels)\n",
    "    VMIN, VMAX = df[FEATURE_PREFIXES].min().min(), df[FEATURE_PREFIXES].max().max()\n",
    "\n",
    "    MAPPED_COL = None\n",
    "    if HM_COL_DICT is not None:\n",
    "        MAPPED_COL = list(map(lambda x: next((v for k, v in HM_COL_DICT.items() if k in x), None), FEATURE_PREFIXES))\n",
    "\n",
    "    # Update layout for halved columns\n",
    "    num_rows = 10  # Updated to maintain the same number of total plots\n",
    "    num_cols = (num_labels + num_rows - 1) // num_rows  # Adjust to get fewer columns\n",
    "    \n",
    "    # Set up subplots with updated figsize and column count\n",
    "    fig, axes = plt.subplots(num_rows, num_cols, figsize=(2 * num_cols, 4 + num_rows * len(FEATURE_PREFIXES) * 0.20))\n",
    "    \n",
    "    plt.suptitle(TITLE, fontsize=20, y=1.02)\n",
    "    # Iterate over each unique value of GMM_LABELS\n",
    "    for idx, label in enumerate(unique_labels):\n",
    "        # Subset the dataframe for the current label\n",
    "        subset_df = df[df[CLUSTER_COL] == label]\n",
    "        num_genes = subset_df.shape[0]\n",
    "        # Melt the dataframe to long format for seaborn\n",
    "        melted_df = subset_df.melt(id_vars=CLUSTER_COL, value_vars=FEATURE_PREFIXES, var_name='HM')\n",
    "        # Plot the boxplot\n",
    "        col_index = idx % num_cols\n",
    "        row_index = idx // num_cols\n",
    "\n",
    "        sns.violinplot(ax=axes[row_index, col_index], y='HM', x='value', data=melted_df, hue='HM', palette=MAPPED_COL, saturation=0.8,\n",
    "                        width=0.7, inner=None, linewidth=0, cut=1)\n",
    "        plt.setp(axes[row_index, col_index].collections, alpha=.8)\n",
    "\n",
    "        sns.boxplot(ax=axes[row_index, col_index], y='HM', x='value', data=melted_df, hue='HM', palette=MAPPED_COL,\n",
    "                    width=0.3, linewidth=1, showcaps=1,\n",
    "                    medianprops={\"color\": \"w\", \"linewidth\": 1},\n",
    "                    boxprops=dict(facecolor=\"black\", alpha=0.4),\n",
    "                    whiskerprops=dict(color=\"black\", alpha=0.5),\n",
    "                    flierprops=dict(marker='.', markerfacecolor='grey', markersize=1, alpha=0.5))\n",
    "        # Set title and labels\n",
    "        axes[row_index, col_index].set_title(f'C{label} ({num_genes})', size=15)\n",
    "        axes[row_index, col_index].set_ylabel('')\n",
    "        axes[row_index, col_index].axvline(x=X_LINE, color='black', linestyle='-', linewidth=0.5)\n",
    "\n",
    "        # Set y limits equal for all plots\n",
    "        axes[row_index, col_index].set_xlim(VMIN, VMAX)  # Adjust the limits as per your data range\n",
    "        if row_index == (num_labels // num_cols) - 1:\n",
    "            axes[row_index, col_index].set_xlabel(X_LAB, fontsize=12)\n",
    "        else:\n",
    "            axes[row_index, col_index].set_xlabel('')\n",
    "        # Remove y-axis label for all but the first plot\n",
    "        if col_index != 0:\n",
    "            axes[row_index, col_index].set_yticklabels('')\n",
    "\n",
    "        # Change the size of xticklabels\n",
    "        for tick in axes[row_index, col_index].get_xticklabels():\n",
    "            tick.set_fontsize(12)  # Change xtick label size\n",
    "\n",
    "    # Hide any unused subplots\n",
    "    for i in range(idx + 1, num_rows * num_cols):\n",
    "        fig.delaxes(axes.flat[i])\n",
    "\n",
    "    plt.tight_layout()\n"
   ]
  },
  {
   "cell_type": "code",
   "execution_count": null,
   "metadata": {},
   "outputs": [],
   "source": [
    "plot_boxplots_clusters(CODE, GMM_LABELS, PREFIXES, HM_COL_DICT=HM_COL_DICT ,X_LINE=0, TITLE=GMM_LABELS, X_LAB='Z-score')\n",
    "plt.savefig(f'{DIR_FIG}/Feature_dist_avg.png', format=\"png\", bbox_inches=\"tight\")"
   ]
  },
  {
   "cell_type": "code",
   "execution_count": null,
   "metadata": {},
   "outputs": [],
   "source": [
    "plot_boxplots_clusters(LOG, GMM_LABELS, X_FEATURES, HM_COL_DICT=HM_COL_DICT ,X_LINE=0, TITLE=GMM_LABELS, X_LAB='log10(x)')"
   ]
  },
  {
   "cell_type": "code",
   "execution_count": null,
   "metadata": {},
   "outputs": [],
   "source": [
    "RNA = pd.read_csv(f'../data/matrices/RNA_FPKM_TSS_2500_FILT.csv').set_index('GENE')\n",
    "CHIP_levels = pd.read_csv(f'../data/matrices/ChIP_TSS2500_RAW_FILT.csv').set_index('GENE')\n",
    "CHIP_levels"
   ]
  },
  {
   "cell_type": "code",
   "execution_count": null,
   "metadata": {},
   "outputs": [],
   "source": [
    "def gene_trend(MAIN,GENE_LIST,CT_LIST,CT_COL_DICT,SAVE_PREFIX,Y_LAB='FPKMs'):\n",
    "    num_genes = len(GENE_LIST)\n",
    "    grid_size = math.ceil(math.sqrt(num_genes))\n",
    "    \n",
    "    plt.figure(figsize=(grid_size*3, grid_size*3))\n",
    "\n",
    "    for i,GENE_NAME in enumerate(GENE_LIST):\n",
    "        CT_REG = '|'.join(CT_LIST)\n",
    "        Series = MAIN.loc[GENE_NAME]\n",
    "        CT = Series.index.str.extract(f'({CT_REG})')[0]\n",
    "        REP = Series.index.str.extract(f'(\\d)')[0]\n",
    "        DF = pd.DataFrame({Y_LAB:Series.values, 'CT':CT, 'REP':REP})\n",
    "        #\n",
    "        #plt.figure(figsize=(3,3))\n",
    "        plt.subplot(grid_size, grid_size, i+1)\n",
    "\n",
    "        plt.title(GENE_NAME)\n",
    "        sns.stripplot(data=DF,x='CT',y=Y_LAB,hue='CT',palette=CT_COL_DICT,\n",
    "                    s=12, alpha=1, legend=False,linewidth=0)\n",
    "        sns.lineplot(data=DF,x='CT',y=Y_LAB, err_style=None,\n",
    "                    color='black',linewidth=1, dashes=(2, 2))\n",
    "        sns.despine(left=1,bottom=0,top=1)\n",
    "        plt.xlabel('')\n",
    "        plt.xticks([])\n",
    "        plt.yticks(  np.ceil( [ 0, max(DF[Y_LAB]) ])  )\n",
    "        plt.ylim(np.ceil([0,  max(DF[Y_LAB])*1.1]))\n",
    "        # Plot y-axis label only for the first column in each row\n",
    "        if i % grid_size != 0:  plt.ylabel('')\n",
    "        plt.tight_layout()\n",
    "    plt.savefig(f'../figures/gene_trend/{SAVE_PREFIX}.pdf', format=\"pdf\", bbox_inches=\"tight\")\n",
    "    "
   ]
  },
  {
   "cell_type": "markdown",
   "metadata": {},
   "source": [
    "### For each cluster plot per gene trends (25 rnd genes selected)"
   ]
  },
  {
   "cell_type": "code",
   "execution_count": null,
   "metadata": {},
   "outputs": [],
   "source": [
    "#take ~20 min to run\n",
    "import random\n",
    "random.seed(42)\n",
    "\n",
    "MAX_LEN = 16\n",
    "for c, value in GENE_CLUSTERS.items():\n",
    "    NAME= f'C{c}'\n",
    "    GENE_LIST = value['gene_list']\n",
    "    if len(GENE_LIST) > MAX_LEN:\n",
    "        print(NAME, len(GENE_LIST))\n",
    "        GENE_LIST = random.sample(GENE_LIST, MAX_LEN)\n",
    "        \n",
    "    ! mkdir -p '../figures/gene_trend/clusters/{NAME}'\n",
    "    #HM_LIST = ['H3K27ac', 'H3K27me3', 'H3K4me3','WCE']\n",
    "    #for HM in HM_LIST:\n",
    "    #    gene_trend(CHIP_levels.filter(regex=HM)\n",
    "    #                ,GENE_LIST= GENE_LIST,CT_LIST=CT_LIST, CT_COL_DICT=CT_COL_DICT, \n",
    "    #                SAVE_PREFIX=f'clusters/{NAME}/{HM}', Y_LAB=HM)\n",
    "    gene_trend(RNA,GENE_LIST= GENE_LIST,CT_LIST=CT_LIST, CT_COL_DICT=CT_COL_DICT, \n",
    "                    SAVE_PREFIX=f'clusters/{NAME}/RNA')\n",
    "    "
   ]
  },
  {
   "cell_type": "code",
   "execution_count": null,
   "metadata": {},
   "outputs": [],
   "source": [
    "! mkdir -p '../figures/gene_trend/clusters'\n",
    "NAME= 'test'\n",
    "GENE_LIST= ['Atp6v0e2', 'Axl', 'Card19', 'Cebpb', 'Cnn1', 'Copz2', 'Coq8a',\n",
    "        'Creb3l1', 'Creld1', 'Ctsf', 'Ddr1', 'Dgat2', 'Dpysl3', 'Dusp3', 'Eml2',\n",
    "        'Fndc10']\n",
    "\n",
    "\n",
    "gene_trend(RNA,GENE_LIST= GENE_LIST,CT_LIST=CT_LIST, CT_COL_DICT=CT_COL_DICT, SAVE_PREFIX=f'clusters/{NAME}')"
   ]
  },
  {
   "cell_type": "code",
   "execution_count": null,
   "metadata": {},
   "outputs": [],
   "source": [
    "RNA"
   ]
  },
  {
   "cell_type": "code",
   "execution_count": null,
   "metadata": {},
   "outputs": [],
   "source": []
  }
 ],
 "metadata": {
  "kernelspec": {
   "display_name": "DL",
   "language": "python",
   "name": "python3"
  },
  "language_info": {
   "codemirror_mode": {
    "name": "ipython",
    "version": 3
   },
   "file_extension": ".py",
   "mimetype": "text/x-python",
   "name": "python",
   "nbconvert_exporter": "python",
   "pygments_lexer": "ipython3",
   "version": "3.10.14"
  }
 },
 "nbformat": 4,
 "nbformat_minor": 2
}
