{
 "cells": [
  {
   "cell_type": "code",
   "execution_count": 2,
   "metadata": {},
   "outputs": [],
   "source": [
    "import pandas as pd\n",
    "import matplotlib as mpl\n",
    "import matplotlib.pyplot as plt\n",
    "import seaborn as sns\n",
    "\n",
    "CHIP_TABLE = pd.read_csv('./data/ChIP_NARROW.csv')\n",
    "CHIP_TABLE"
   ]
  },
  {
   "cell_type": "markdown",
   "metadata": {},
   "source": [
    "### Download SRA"
   ]
  },
  {
   "cell_type": "code",
   "execution_count": 9,
   "metadata": {},
   "outputs": [],
   "source": [
    "import sys, subprocess\n",
    "OUTDIR= '/LocalFastqDir/...'\n",
    "NT = '12'\n",
    "RANGE=(0,32)\n",
    "\n",
    "#\n",
    "for i,row in CHIP_TABLE.iterrows():\n",
    "    if i in range(RANGE[0],RANGE[1]):\n",
    "        SRA = row['run_accession']\n",
    "        SAMPLE_ID = row['SAMPLE_ID']\n",
    "        print(f'\\nIndex     = {i}')\n",
    "        print(f'SRA       = {SRA}')\n",
    "        print(f'SAMPLE_ID = {SAMPLE_ID}')\n",
    "        print(f'OUTDIR    = {OUTDIR}\\n')\n",
    "        subprocess.run(['parallel-fastq-dump','--tmpdir','.','--sra-id',SRA,'--threads',NT,'--outdir',OUTDIR,'--gzip'])"
   ]
  },
  {
   "cell_type": "markdown",
   "metadata": {},
   "source": [
    "### Map with bowtie2 (~25 min x sample)"
   ]
  },
  {
   "cell_type": "code",
   "execution_count": 7,
   "metadata": {},
   "outputs": [],
   "source": [
    "MAPFILES='/LocalMapDir/...'\n",
    "SSD_DIR='/StorageVolume/...'\n",
    "\n",
    "for i,row in CHIP_TABLE.iterrows():\n",
    "    if i in range(RANGE[0],RANGE[1]):\n",
    "        try:\n",
    "            SRA = row['run_accession']\n",
    "            SAMPLE_ID = row['SAMPLE_ID']\n",
    "            print(f'\\nIndex     = {i}')\n",
    "            print(f'SRA       = {SRA}')\n",
    "            print(f'SAMPLE_ID = {SAMPLE_ID}')\n",
    "            print(f'OUTDIR    = {OUTDIR}\\n')\n",
    "            #subprocess.run(['parallel-fastq-dump','--tmpdir','.','--sra-id',SRA,'--threads',NT,'--outdir',OUTDIR,'--gzip'])\n",
    "            FASTQ_FILE = OUTDIR+row['run_accession']+'.fastq.gz'\n",
    "            print(f'\\nIndex      = {i}')\n",
    "            print(f'FASTQ_FILE = {FASTQ_FILE}')\n",
    "            print(f'SAMPLE_ID  = {SAMPLE_ID}\\n')\n",
    "            print(f'{MAPFILES}{SAMPLE_ID}.bam\\n')\n",
    "            #subprocess.run(['pigz', '-d', '-k', '-p','5', FASTQ_FILE+'.gz'])\n",
    "            subprocess.run(['./MapChIPseq2.pl', '-v', 'mouse', 'mm10', FASTQ_FILE, SAMPLE_ID])\n",
    "            subprocess.run(['rm', '-f', FASTQ_FILE])\n",
    "            subprocess.run(['rsync', '-a', '-v','-h','--remove-source-files', f'{MAPFILES}{SAMPLE_ID}.bam', SSD_DIR])\n",
    "        except Exception:\n",
    "            print('Error')\n",
    "            break"
   ]
  },
  {
   "cell_type": "markdown",
   "metadata": {},
   "source": [
    "### Assert all the SAMPLE IDs have a BAM file\n"
   ]
  },
  {
   "cell_type": "code",
   "execution_count": 36,
   "metadata": {},
   "outputs": [],
   "source": [
    "import os\n",
    "SAMPLE_IDS = pd.Index([sample_id + '.bam' for sample_id in CHIP_TABLE['SAMPLE_ID']])\n",
    "BAMS = pd.Index(os.listdir(SSD_DIR))\n",
    "assert len(SAMPLE_IDS.intersection(BAMS)) == len(SAMPLE_IDS)"
   ]
  }
 ],
 "metadata": {
  "kernelspec": {
   "display_name": "DL2",
   "language": "python",
   "name": "python3"
  },
  "language_info": {
   "codemirror_mode": {
    "name": "ipython",
    "version": 3
   },
   "file_extension": ".py",
   "mimetype": "text/x-python",
   "name": "python",
   "nbconvert_exporter": "python",
   "pygments_lexer": "ipython3",
   "version": "3.10.14"
  }
 },
 "nbformat": 4,
 "nbformat_minor": 2
}
